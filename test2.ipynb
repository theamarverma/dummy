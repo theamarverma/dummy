{
 "cells": [
  {
   "cell_type": "code",
   "execution_count": 1,
   "metadata": {},
   "outputs": [],
   "source": [
    "import requests\n",
    "from bs4 import BeautifulSoup\n",
    "\n",
    "# Step 1: Define a function to search for a hotel and get its specific page URL\n",
    "def search_hotel(base_url, hotel_name):\n",
    "    # Construct the search URL with the hotel name\n",
    "    search_url = f\"{base_url}/suche?tx_solr%5Bq%5D={hotel_name.replace(' ', '+')}\"\n",
    "    \n",
    "    # Send GET request to the search URL\n",
    "    response = requests.get(search_url)\n",
    "    \n",
    "    # Check if the request was successful\n",
    "    if response.status_code == 200:\n",
    "        # Parse the search result page\n",
    "        soup = BeautifulSoup(response.text, 'html.parser')\n",
    "        \n",
    "        # Find the specific hotel link (adjust the selectors based on actual HTML)\n",
    "        hotel_link = None\n",
    "        for link in soup.find_all('a', href=True):\n",
    "            if hotel_name.lower() in link.text.lower():\n",
    "                hotel_link = link['href']\n",
    "                break\n",
    "        \n",
    "        if hotel_link:\n",
    "            # Full hotel URL\n",
    "            full_hotel_url = f\"{base_url}{hotel_link}\"\n",
    "            print(f\"Found hotel page: {full_hotel_url}\")\n",
    "            return full_hotel_url\n",
    "        else:\n",
    "            print(f\"No link found for hotel: {hotel_name}\")\n",
    "    else:\n",
    "        print(f\"Failed to retrieve search results for {hotel_name}. HTTP Status: {response.status_code}\")\n",
    "    return None\n"
   ]
  },
  {
   "cell_type": "code",
   "execution_count": 4,
   "metadata": {},
   "outputs": [
    {
     "name": "stdout",
     "output_type": "stream",
     "text": [
      "Found hotel page: https://www.golf-extra.com/hotel/spanien/lopesan-villa-del-conde-resort\n"
     ]
    },
    {
     "ename": "NameError",
     "evalue": "name 'scrape_hotel_page' is not defined",
     "output_type": "error",
     "traceback": [
      "\u001b[1;31m---------------------------------------------------------------------------\u001b[0m",
      "\u001b[1;31mNameError\u001b[0m                                 Traceback (most recent call last)",
      "Cell \u001b[1;32mIn[4], line 9\u001b[0m\n\u001b[0;32m      7\u001b[0m \u001b[38;5;66;03m# Step 2: Scrape details from the hotel page\u001b[39;00m\n\u001b[0;32m      8\u001b[0m \u001b[38;5;28;01mif\u001b[39;00m hotel_page_url:\n\u001b[1;32m----> 9\u001b[0m     \u001b[43mscrape_hotel_page\u001b[49m(hotel_page_url)\n",
      "\u001b[1;31mNameError\u001b[0m: name 'scrape_hotel_page' is not defined"
     ]
    }
   ],
   "source": [
    "base_url = \"https://www.golf-extra.com\"\n",
    "hotel_name = \"Lopesan Villa del Conde Resort & Thalasso\"  # Change this to your target hotel\n",
    "\n",
    "# Step 1: Search for the hotel and get the hotel page URL\n",
    "hotel_page_url = search_hotel(base_url, hotel_name)\n",
    "\n",
    "# Step 2: Scrape details from the hotel page\n",
    "if hotel_page_url:\n",
    "    scrape_hotel_page(hotel_page_url)"
   ]
  },
  {
   "cell_type": "code",
   "execution_count": 6,
   "metadata": {},
   "outputs": [
    {
     "name": "stdout",
     "output_type": "stream",
     "text": [
      "Data successfully saved to hotel_data2.csv\n"
     ]
    }
   ],
   "source": [
    "import requests\n",
    "from bs4 import BeautifulSoup\n",
    "import csv\n",
    "\n",
    "# Function to scrape data and save to CSV\n",
    "def scrape_and_save_to_csv(hotel_url, selector, csv_filename):\n",
    "    response = requests.get(hotel_url)\n",
    "    if response.status_code == 200:\n",
    "        # Parse the HTML content of the page\n",
    "        soup = BeautifulSoup(response.text, 'html.parser')\n",
    "        \n",
    "        # Find the element(s) using the given selector\n",
    "        target_data = soup.select(selector)\n",
    "        \n",
    "        # Extract the content and prepare it for CSV\n",
    "        data_list = [element.text.strip() for element in target_data]\n",
    "        \n",
    "        if data_list:\n",
    "            # Write data to a CSV file\n",
    "            with open(csv_filename, mode='w', newline='', encoding='utf-8') as file:\n",
    "                writer = csv.writer(file)\n",
    "                writer.writerow([\"Data Block\"])  # Header row\n",
    "                for data in data_list:\n",
    "                    writer.writerow([data])\n",
    "            print(f\"Data successfully saved to {csv_filename}\")\n",
    "        else:\n",
    "            print(f\"No data found for selector: {selector}\")\n",
    "    else:\n",
    "        print(f\"Failed to load hotel page: {hotel_url}. HTTP Status: {response.status_code}\")\n",
    "\n",
    "# Example Usage\n",
    "hotel_url = hotel_page_url  # Replace with your hotel page URL\n",
    "selector = \"#ge-hotel-information > div\"  # Replace with your CSS selector\n",
    "csv_filename = \"hotel_data2.csv\"  # Desired output file name\n",
    "\n",
    "scrape_and_save_to_csv(hotel_url, selector, csv_filename)\n"
   ]
  }
 ],
 "metadata": {
  "kernelspec": {
   "display_name": "Python 3",
   "language": "python",
   "name": "python3"
  },
  "language_info": {
   "codemirror_mode": {
    "name": "ipython",
    "version": 3
   },
   "file_extension": ".py",
   "mimetype": "text/x-python",
   "name": "python",
   "nbconvert_exporter": "python",
   "pygments_lexer": "ipython3",
   "version": "3.12.5"
  }
 },
 "nbformat": 4,
 "nbformat_minor": 2
}
