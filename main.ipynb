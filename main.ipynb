from bs4 import BeautifulSoup

# Example HTML content (replace this with the full HTML from the website)
html_content = """
<!DOCTYPE html>
<html dir="ltr" lang="de-DE">
<head>

    
    
    

    <script src="https://ccm.beyond-media.de/app.js?apiKey=c1c4e51f6755892d61c281f2f5947c091c9d3721a44d986f&amp;domain=147baf5&amp;theme=c0f3b1e" referrerpolicy="origin"></script>

    <!-- Google Tag Manager -->
    <script>(function(w,d,s,l,i){w[l]=w[l]||[];w[l].push({'gtm.start':
            new Date().getTime(),event:'gtm.js'});var f=d.getElementsByTagName(s)[0],
        j=d.createElement(s),dl=l!='dataLayer'?'&l='+l:'';j.async=true;j.src=
        'https://www.googletagmanager.com/gtm.js?id='+i+dl;f.parentNode.insertBefore(j,f);
    })(window,document,'script','dataLayer','GTM-5BLC77K');</script>
    <!-- End Google Tag Manager -->

<meta charset="utf-8">
<!-- 
	This website is powered by TYPO3 - inspiring people to share!
	TYPO3 is a free open source Content Management Framework initially created by Kasper Skaarhoj and licensed under GNU/GPL.
	TYPO3 is copyright 1998-2024 of Kasper Skaarhoj. Extensions are copyright of their respective owners.
	Information and contribution at https://typo3.org/
-->



<title>Hotel</title>
<meta name="generator" content="TYPO3 CMS" />
<meta name="viewport" content="width=device-width, initial-scale=1, shrink-to-fit=no" />
<meta name="twitter:card" content="summary" />
<meta name="x-csrf-token" content="dummyToken" />


<link rel="stylesheet" type="text/css" href="/typo3conf/ext/beyond_master/Resources/Public/dist/app.css?1707400576" media="all">
<link rel="stylesheet" type="text/css" href="/typo3conf/ext/solr/Resources/Public/StyleSheets/Frontend/suggest.css?1667397870" media="all">






<!-- FavIcon -->
      <link rel="apple-touch-icon" sizes="180x180" href="/typo3conf/ext/beyond_master/Resources/Public/dist/favicons/apple-touch-icon.png">
      <link rel="icon" type="image/png" sizes="32x32" href="/typo3conf/ext/beyond_master/Resources/Public/dist/favicons/favicon-32x32.png">
      <link rel="icon" type="image/png" sizes="16x16" href="/typo3conf/ext/beyond_master/Resources/Public/dist/favicons/favicon-16x16.png">
      <link rel="manifest" href="/typo3conf/ext/beyond_master/Resources/Public/dist/favicons/site.webmanifest">
      <link rel="mask-icon" href="/typo3conf/ext/beyond_master/Resources/Public/dist/favicons/safari-pinned-tab.svg" color="#7b7b7b">
      <link rel="shortcut icon" href="/typo3conf/ext/beyond_master/Resources/Public/dist/favicons/favicon.ico">
      <meta name="msapplication-TileColor" content="#00aba9">
      <meta name="msapplication-config" content="/typo3conf/ext/beyond_master/Resources/Public/dist/favicons/browserconfig.xml">
      <meta name="theme-color" content="#ffffff">
      <!-- End FavIcon -->
<link rel="canonical" href="https://www.golf-extra.com/hotel"/>
</head>
<body class="preload-transitions">


    
    
    <!-- Google Tag Manager (noscript) -->
    <noscript><iframe src="https://www.googletagmanager.com/ns.html?id=GTM-5BLC77K"
                      height="0" width="0" style="display:none;visibility:hidden"></iframe></noscript>
    <!-- End Google Tag Manager (noscript) -->




<!--TYPO3SEARCH_begin-->

    
        

    
    
    <nav class="ge-meta-navigation__container">
        
            <ul class="ge-meta-navigation__list">
                
                    
                            
                                <li class="ge-meta-navigation__item">
                                    <a href="/ueber-uns/karriere" class="ge-meta-navigation__link"><i class="las la-graduation-cap"></i><span>Karriere</span></a>
                                </li>
                            
                        
                
                    
                            
                                <li class="ge-meta-navigation__item">
                                    <a href="/suche" class="ge-meta-navigation__link"><i class="las la-search"></i><span>Suche</span></a>
                                </li>
                            
                        
                
                    
                            
                                <li class="ge-meta-navigation__item">
                                    <a href="/merkliste" class="ge-meta-navigation__link"><i class="lar la-heart"></i><span>Merkliste</span></a>
                                </li>
                            
                        
                
                
    
        <li class="ge-meta-navigation__item ge-meta-navigation__item--contact">
            <div class="ge-meta-navigation__link ge-meta-navigation__link--contact">
                <i class="las la-comments"></i><span>Kontakt</span>
            </div>
            <div class="ge-contact-dropdown__container">
                
                    <div class="ge-contact-dropdown__header">
                        <i class="las la-phone"></i><div><p><a href="tel:+49713127765400">+49 (0) 7131/27765-400</a></p></div>
                    </div>
                
                <div class="ge-contact-dropdown__content">
                    
                        <div class="ge-contact-dropdown__content-column ge-contact-dropdown__content-column--mail">
                            <i class="las la-envelope"></i><div><p><a href="mailto:anfrage@golf-extra.com">anfrage@golf-extra.com</a></p></div>
                        </div>
                    
                    
                        <div class="ge-contact-dropdown__content-column ge-contact-dropdown__content-column--address">
                            <i class="las la-map-marked-alt"></i><div><p>Allee 18<br> 74072 Heilbronn</p>
<p><a href="https://goo.gl/maps/whBkHrMT6x3B1GzA9" target="_blank" class="link-arrow" rel="noreferrer">Route bei Google Maps&nbsp;berechnen</a></p></div>
                        </div>
                    
                    
                        <div class="ge-contact-dropdown__content-column ge-contact-dropdown__content-column--opening-hours">
                            <i class="las la-clock"></i><div><p>Mo - Fr:&nbsp;<br> 09:00 bis 18:00 Uhr</p></div>
                        </div>
                    
                    
                        <ul class="ge-contact-dropdown__link-list">
                            
                                
                                    <li class="ge-contact-dropdown__link-list--item">
                                        <a href="/telefontermin-vereinbaren" class="ge-contact-dropdown__link-list--link"><span>Telefontermin vereinbaren</span><i class="las la-angle-right"></i></a>
                                    </li>
                                
                            
                                
                                    <li class="ge-contact-dropdown__link-list--item">
                                        <a href="/kontakt" class="ge-contact-dropdown__link-list--link"><span>Kontaktformular</span><i class="las la-angle-right"></i></a>
                                    </li>
                                
                            
                                
                                    <li class="ge-contact-dropdown__link-list--item">
                                        <a href="/#c27" class="ge-contact-dropdown__link-list--link"><span>Zum Newsletter anmelden</span><i class="las la-angle-right"></i></a>
                                    </li>
                                
                            
                        </ul>
                    
                    <div class="ge-contact-dropdown__button">
                        
                            <a href="/anfrage-golfreise" class="btn btn-outline-secondary">Angebot anfragen</a>
                        
                    </div>
                </div>
            </div>
        </li>
    

            </ul>
        
    </nav>

    
    <nav class="ge-desktop-navigation__container">
        
            
                
                <ul class="ge-desktop-navigation__list ge-desktop-navigation__list--main-left">
                    
                        
                            <li class="ge-desktop-navigation__item ge-desktop-navigation__item--main ge-desktop-navigation__item--with-subpages sub ">
                                <a href="/golfreisen" class="ge-desktop-navigation__link ge-desktop-navigation__link--main">Golfreisen</a>
                                
                                        
    
        <div class="ge-navigation-mega-dropdown__container">
            <ul class="ge-navigation-mega-dropdown__list ge-navigation-mega-dropdown__list--level-1">
                
                    
                        <li class="ge-navigation-mega-dropdown__item ge-navigation-mega-dropdown__item--level-1 ge-navigation-mega-dropdown__item--has-children sub ">
                            <div class="ge-navigation-mega-dropdown__link ge-navigation-mega-dropdown__link--level-1">Europa</div>
                            
    
        <ul class="ge-navigation-mega-dropdown__list ge-navigation-mega-dropdown__list--level-2">
            
                
                    <li class="ge-navigation-mega-dropdown__item ge-navigation-mega-dropdown__item--level-2">
                        <a href="/golfreisen/europa/bulgarien" class="ge-navigation-mega-dropdown__link ge-navigation-mega-dropdown__link--level-2">Bulgarien</a>
                    </li>
                
                    <li class="ge-navigation-mega-dropdown__item ge-navigation-mega-dropdown__item--level-2">
                        <a href="/golfreisen/europa/deutschland" class="ge-navigation-mega-dropdown__link ge-navigation-mega-dropdown__link--level-2">Deutschland</a>
                    </li>
                
                    <li class="ge-navigation-mega-dropdown__item ge-navigation-mega-dropdown__item--level-2">
                        <a href="/golfreisen/europa/england" class="ge-navigation-mega-dropdown__link ge-navigation-mega-dropdown__link--level-2">England</a>
                    </li>
                
                    <li class="ge-navigation-mega-dropdown__item ge-navigation-mega-dropdown__item--level-2">
                        <a href="/golfreisen/europa/finnland" class="ge-navigation-mega-dropdown__link ge-navigation-mega-dropdown__link--level-2">Finnland</a>
                    </li>
                
                    <li class="ge-navigation-mega-dropdown__item ge-navigation-mega-dropdown__item--level-2">
                        <a href="/golfreisen/europa/frankreich" class="ge-navigation-mega-dropdown__link ge-navigation-mega-dropdown__link--level-2">Frankreich</a>
                    </li>
                
                    <li class="ge-navigation-mega-dropdown__item ge-navigation-mega-dropdown__item--level-2 ge-navigation-mega-dropdown__item--has-children sub">
                        <a href="/golfreisen/europa/griechenland" class="ge-navigation-mega-dropdown__link ge-navigation-mega-dropdown__link--level-2">Griechenland</a>
                    </li>
                
                    <li class="ge-navigation-mega-dropdown__item ge-navigation-mega-dropdown__item--level-2 ge-navigation-mega-dropdown__item--has-children sub">
                        <a href="/golfreisen/europa/italien" class="ge-navigation-mega-dropdown__link ge-navigation-mega-dropdown__link--level-2">Italien</a>
                    </li>
                
                    <li class="ge-navigation-mega-dropdown__item ge-navigation-mega-dropdown__item--level-2 ge-navigation-mega-dropdown__item--has-children sub">
                        <a href="/golfreisen/europa/irland" class="ge-navigation-mega-dropdown__link ge-navigation-mega-dropdown__link--level-2">Irland</a>
                    </li>
                
                    <li class="ge-navigation-mega-dropdown__item ge-navigation-mega-dropdown__item--level-2 ge-navigation-mega-dropdown__item--has-children sub">
                        <a href="/golfreisen/europa/island" class="ge-navigation-mega-dropdown__link ge-navigation-mega-dropdown__link--level-2">Island</a>
                    </li>
                
                    <li class="ge-navigation-mega-dropdown__item ge-navigation-mega-dropdown__item--level-2">
                        <a href="/golfreisen/europa/lettland" class="ge-navigation-mega-dropdown__link ge-navigation-mega-dropdown__link--level-2">Lettland</a>
                    </li>
                
                    <li class="ge-navigation-mega-dropdown__item ge-navigation-mega-dropdown__item--level-2">
                        <a href="/golfreisen/europa/nordirland" class="ge-navigation-mega-dropdown__link ge-navigation-mega-dropdown__link--level-2">Nordirland</a>
                    </li>
                
                    <li class="ge-navigation-mega-dropdown__item ge-navigation-mega-dropdown__item--level-2">
                        <a href="/golfreisen/europa/norwegen" class="ge-navigation-mega-dropdown__link ge-navigation-mega-dropdown__link--level-2">Norwegen</a>
                    </li>
                
                    <li class="ge-navigation-mega-dropdown__item ge-navigation-mega-dropdown__item--level-2 ge-navigation-mega-dropdown__item--has-children sub">
                        <a href="/golfreisen/europa/portugal" class="ge-navigation-mega-dropdown__link ge-navigation-mega-dropdown__link--level-2">Portugal</a>
                    </li>
                
                    <li class="ge-navigation-mega-dropdown__item ge-navigation-mega-dropdown__item--level-2 ge-navigation-mega-dropdown__item--has-children sub">
                        <a href="/golfreisen/europa/schottland" class="ge-navigation-mega-dropdown__link ge-navigation-mega-dropdown__link--level-2">Schottland</a>
                    </li>
                
                    <li class="ge-navigation-mega-dropdown__item ge-navigation-mega-dropdown__item--level-2">
                        <a href="/golfreisen/europa/schweden" class="ge-navigation-mega-dropdown__link ge-navigation-mega-dropdown__link--level-2">Schweden</a>
                    </li>
                
                    <li class="ge-navigation-mega-dropdown__item ge-navigation-mega-dropdown__item--level-2">
                        <a href="/golfreisen/europa/slowenien" class="ge-navigation-mega-dropdown__link ge-navigation-mega-dropdown__link--level-2">Slowenien</a>
                    </li>
                
                    <li class="ge-navigation-mega-dropdown__item ge-navigation-mega-dropdown__item--level-2 ge-navigation-mega-dropdown__item--has-children sub">
                        <a href="/golfreisen/europa/spanien" class="ge-navigation-mega-dropdown__link ge-navigation-mega-dropdown__link--level-2">Spanien</a>
                    </li>
                
                    <li class="ge-navigation-mega-dropdown__item ge-navigation-mega-dropdown__item--level-2">
                        <a href="/golfreisen/europa/tschechien" class="ge-navigation-mega-dropdown__link ge-navigation-mega-dropdown__link--level-2">Tschechien</a>
                    </li>
                
                    <li class="ge-navigation-mega-dropdown__item ge-navigation-mega-dropdown__item--level-2">
                        <a href="/golfreisen/europa/tuerkei" class="ge-navigation-mega-dropdown__link ge-navigation-mega-dropdown__link--level-2">Türkei</a>
                    </li>
                
                    <li class="ge-navigation-mega-dropdown__item ge-navigation-mega-dropdown__item--level-2">
                        <a href="/golfreisen/europa/wales" class="ge-navigation-mega-dropdown__link ge-navigation-mega-dropdown__link--level-2">Wales</a>
                    </li>
                
                    <li class="ge-navigation-mega-dropdown__item ge-navigation-mega-dropdown__item--level-2">
                        <a href="/golfreisen/europa/zypern" class="ge-navigation-mega-dropdown__link ge-navigation-mega-dropdown__link--level-2">Zypern</a>
                    </li>
                
            
        </ul>
    

                        </li>
                    
                        <li class="ge-navigation-mega-dropdown__item ge-navigation-mega-dropdown__item--level-1 ge-navigation-mega-dropdown__item--has-children sub">
                            <div class="ge-navigation-mega-dropdown__link ge-navigation-mega-dropdown__link--level-1">Afrika</div>
                            
    
        <ul class="ge-navigation-mega-dropdown__list ge-navigation-mega-dropdown__list--level-2">
            
                
                    <li class="ge-navigation-mega-dropdown__item ge-navigation-mega-dropdown__item--level-2">
                        <a href="/golfreisen/afrika/aegypten" class="ge-navigation-mega-dropdown__link ge-navigation-mega-dropdown__link--level-2">Ägypten</a>
                    </li>
                
                    <li class="ge-navigation-mega-dropdown__item ge-navigation-mega-dropdown__item--level-2 ge-navigation-mega-dropdown__item--has-children sub">
                        <a href="/golfreisen/afrika/marokko" class="ge-navigation-mega-dropdown__link ge-navigation-mega-dropdown__link--level-2">Marokko</a>
                    </li>
                
                    <li class="ge-navigation-mega-dropdown__item ge-navigation-mega-dropdown__item--level-2 ge-navigation-mega-dropdown__item--has-children sub ">
                        <a href="/golfreisen/afrika/suedafrika" class="ge-navigation-mega-dropdown__link ge-navigation-mega-dropdown__link--level-2">Südafrika</a>
                    </li>
                
            
        </ul>
    

                        </li>
                    
                        <li class="ge-navigation-mega-dropdown__item ge-navigation-mega-dropdown__item--level-1 ge-navigation-mega-dropdown__item--has-children sub">
                            <div class="ge-navigation-mega-dropdown__link ge-navigation-mega-dropdown__link--level-1">Orient</div>
                            
    
        <ul class="ge-navigation-mega-dropdown__list ge-navigation-mega-dropdown__list--level-2">
            
                
                    <li class="ge-navigation-mega-dropdown__item ge-navigation-mega-dropdown__item--level-2 ge-navigation-mega-dropdown__item--has-children sub ">
                        <a href="/golfreisen/orient/abu-dhabi" class="ge-navigation-mega-dropdown__link ge-navigation-mega-dropdown__link--level-2">Abu Dhabi</a>
                    </li>
                
                    <li class="ge-navigation-mega-dropdown__item ge-navigation-mega-dropdown__item--level-2">
                        <a href="/golfreisen/orient/ajman" class="ge-navigation-mega-dropdown__link ge-navigation-mega-dropdown__link--level-2">Ajman</a>
                    </li>
                
                    <li class="ge-navigation-mega-dropdown__item ge-navigation-mega-dropdown__item--level-2">
                        <a href="/golfreisen/orient/dubai" class="ge-navigation-mega-dropdown__link ge-navigation-mega-dropdown__link--level-2">Dubai</a>
                    </li>
                
                    <li class="ge-navigation-mega-dropdown__item ge-navigation-mega-dropdown__item--level-2">
                        <a href="/golfreisen/orient/jordanien" class="ge-navigation-mega-dropdown__link ge-navigation-mega-dropdown__link--level-2">Jordanien</a>
                    </li>
                
                    <li class="ge-navigation-mega-dropdown__item ge-navigation-mega-dropdown__item--level-2">
                        <a href="/golfreisen/orient/katar" class="ge-navigation-mega-dropdown__link ge-navigation-mega-dropdown__link--level-2">Katar</a>
                    </li>
                
                    <li class="ge-navigation-mega-dropdown__item ge-navigation-mega-dropdown__item--level-2">
                        <a href="/golfreisen/orient/oman" class="ge-navigation-mega-dropdown__link ge-navigation-mega-dropdown__link--level-2">Oman</a>
                    </li>
                
                    <li class="ge-navigation-mega-dropdown__item ge-navigation-mega-dropdown__item--level-2">
                        <a href="/golfreisen/orient/ras-al-khaimah" class="ge-navigation-mega-dropdown__link ge-navigation-mega-dropdown__link--level-2">Ras al Khaimah</a>
                    </li>
                
            
        </ul>
    

                        </li>
                    
                        <li class="ge-navigation-mega-dropdown__item ge-navigation-mega-dropdown__item--level-1 ge-navigation-mega-dropdown__item--has-children sub">
                            <div class="ge-navigation-mega-dropdown__link ge-navigation-mega-dropdown__link--level-1">Indischer Ozean</div>
                            
    
        <ul class="ge-navigation-mega-dropdown__list ge-navigation-mega-dropdown__list--level-2">
            
                
                    <li class="ge-navigation-mega-dropdown__item ge-navigation-mega-dropdown__item--level-2 ge-navigation-mega-dropdown__item--has-children sub ">
                        <a href="/golfreisen/indischer-ozean/mauritius" class="ge-navigation-mega-dropdown__link ge-navigation-mega-dropdown__link--level-2">Mauritius</a>
                    </li>
                
                    <li class="ge-navigation-mega-dropdown__item ge-navigation-mega-dropdown__item--level-2">
                        <a href="/golfreisen/indischer-ozean/seychellen" class="ge-navigation-mega-dropdown__link ge-navigation-mega-dropdown__link--level-2">Seychellen</a>
                    </li>
                
            
        </ul>
    

                        </li>
                    
                        <li class="ge-navigation-mega-dropdown__item ge-navigation-mega-dropdown__item--level-1 ge-navigation-mega-dropdown__item--has-children sub">
                            <div class="ge-navigation-mega-dropdown__link ge-navigation-mega-dropdown__link--level-1">Asien</div>
                            
    
        <ul class="ge-navigation-mega-dropdown__list ge-navigation-mega-dropdown__list--level-2">
            
                
                    <li class="ge-navigation-mega-dropdown__item ge-navigation-mega-dropdown__item--level-2 ge-navigation-mega-dropdown__item--has-children sub ">
                        <a href="/golfreisen/asien/china" class="ge-navigation-mega-dropdown__link ge-navigation-mega-dropdown__link--level-2">China</a>
                    </li>
                
                    <li class="ge-navigation-mega-dropdown__item ge-navigation-mega-dropdown__item--level-2 ge-navigation-mega-dropdown__item--has-children sub">
                        <a href="/golfreisen/asien/indien" class="ge-navigation-mega-dropdown__link ge-navigation-mega-dropdown__link--level-2">Indien</a>
                    </li>
                
                    <li class="ge-navigation-mega-dropdown__item ge-navigation-mega-dropdown__item--level-2 ge-navigation-mega-dropdown__item--has-children sub">
                        <a href="/golfreisen/asien/indonesien" class="ge-navigation-mega-dropdown__link ge-navigation-mega-dropdown__link--level-2">Indonesien</a>
                    </li>
                
                    <li class="ge-navigation-mega-dropdown__item ge-navigation-mega-dropdown__item--level-2 ge-navigation-mega-dropdown__item--has-children sub">
                        <a href="/golfreisen/asien/japan" class="ge-navigation-mega-dropdown__link ge-navigation-mega-dropdown__link--level-2">Japan</a>
                    </li>
                
                    <li class="ge-navigation-mega-dropdown__item ge-navigation-mega-dropdown__item--level-2">
                        <a href="/golfreisen/asien/kambodscha" class="ge-navigation-mega-dropdown__link ge-navigation-mega-dropdown__link--level-2">Kambodscha</a>
                    </li>
                
                    <li class="ge-navigation-mega-dropdown__item ge-navigation-mega-dropdown__item--level-2">
                        <a href="/golfreisen/asien/malaysia" class="ge-navigation-mega-dropdown__link ge-navigation-mega-dropdown__link--level-2">Malaysia</a>
                    </li>
                
                    <li class="ge-navigation-mega-dropdown__item ge-navigation-mega-dropdown__item--level-2">
                        <a href="/golfreisen/asien/sri-lanka" class="ge-navigation-mega-dropdown__link ge-navigation-mega-dropdown__link--level-2">Sri Lanka</a>
                    </li>
                
                    <li class="ge-navigation-mega-dropdown__item ge-navigation-mega-dropdown__item--level-2 ge-navigation-mega-dropdown__item--has-children sub">
                        <a href="/golfreisen/asien/thailand" class="ge-navigation-mega-dropdown__link ge-navigation-mega-dropdown__link--level-2">Thailand</a>
                    </li>
                
                    <li class="ge-navigation-mega-dropdown__item ge-navigation-mega-dropdown__item--level-2 ge-navigation-mega-dropdown__item--has-children sub ">
                        <a href="/golfreisen/asien/vietnam" class="ge-navigation-mega-dropdown__link ge-navigation-mega-dropdown__link--level-2">Vietnam</a>
                    </li>
                
            
        </ul>
    

                        </li>
                    
                        <li class="ge-navigation-mega-dropdown__item ge-navigation-mega-dropdown__item--level-1 ge-navigation-mega-dropdown__item--has-children sub">
                            <div class="ge-navigation-mega-dropdown__link ge-navigation-mega-dropdown__link--level-1">Australien und Ozeanien</div>
                            
    
        <ul class="ge-navigation-mega-dropdown__list ge-navigation-mega-dropdown__list--level-2">
            
                
                    <li class="ge-navigation-mega-dropdown__item ge-navigation-mega-dropdown__item--level-2 ge-navigation-mega-dropdown__item--has-children sub ">
                        <a href="/golfreisen/australien-und-ozeanien/australien" class="ge-navigation-mega-dropdown__link ge-navigation-mega-dropdown__link--level-2">Australien</a>
                    </li>
                
                    <li class="ge-navigation-mega-dropdown__item ge-navigation-mega-dropdown__item--level-2 ge-navigation-mega-dropdown__item--has-children sub ">
                        <a href="/golfreisen/australien-und-ozeanien/neuseeland" class="ge-navigation-mega-dropdown__link ge-navigation-mega-dropdown__link--level-2">Neuseeland</a>
                    </li>
                
            
        </ul>
    

                        </li>
                    
                        <li class="ge-navigation-mega-dropdown__item ge-navigation-mega-dropdown__item--level-1 ge-navigation-mega-dropdown__item--has-children sub">
                            <div class="ge-navigation-mega-dropdown__link ge-navigation-mega-dropdown__link--level-1">Karibik</div>
                            
    
        <ul class="ge-navigation-mega-dropdown__list ge-navigation-mega-dropdown__list--level-2">
            
                
                    <li class="ge-navigation-mega-dropdown__item ge-navigation-mega-dropdown__item--level-2">
                        <a href="/golfreisen/karibik/barbados" class="ge-navigation-mega-dropdown__link ge-navigation-mega-dropdown__link--level-2">Barbados</a>
                    </li>
                
                    <li class="ge-navigation-mega-dropdown__item ge-navigation-mega-dropdown__item--level-2">
                        <a href="/golfreisen/karibik/bermuda" class="ge-navigation-mega-dropdown__link ge-navigation-mega-dropdown__link--level-2">Bermuda</a>
                    </li>
                
                    <li class="ge-navigation-mega-dropdown__item ge-navigation-mega-dropdown__item--level-2">
                        <a href="/golfreisen/karibik/dominikanische-republik" class="ge-navigation-mega-dropdown__link ge-navigation-mega-dropdown__link--level-2">Dominikanische Republik</a>
                    </li>
                
                    <li class="ge-navigation-mega-dropdown__item ge-navigation-mega-dropdown__item--level-2">
                        <a href="/golfreisen/karibik/jamaika" class="ge-navigation-mega-dropdown__link ge-navigation-mega-dropdown__link--level-2">Jamaika</a>
                    </li>
                
                    <li class="ge-navigation-mega-dropdown__item ge-navigation-mega-dropdown__item--level-2">
                        <a href="/golfreisen/karibik/puerto-rico" class="ge-navigation-mega-dropdown__link ge-navigation-mega-dropdown__link--level-2">Puerto Rico</a>
                    </li>
                
            
        </ul>
    

                        </li>
                    
                        <li class="ge-navigation-mega-dropdown__item ge-navigation-mega-dropdown__item--level-1 ge-navigation-mega-dropdown__item--has-children sub">
                            <div class="ge-navigation-mega-dropdown__link ge-navigation-mega-dropdown__link--level-1">Nordamerika</div>
                            
    
        <ul class="ge-navigation-mega-dropdown__list ge-navigation-mega-dropdown__list--level-2">
            
                
                    <li class="ge-navigation-mega-dropdown__item ge-navigation-mega-dropdown__item--level-2 ge-navigation-mega-dropdown__item--has-children sub ">
                        <a href="/golfreisen/nordamerika/kanada" class="ge-navigation-mega-dropdown__link ge-navigation-mega-dropdown__link--level-2">Kanada</a>
                    </li>
                
                    <li class="ge-navigation-mega-dropdown__item ge-navigation-mega-dropdown__item--level-2 ge-navigation-mega-dropdown__item--has-children sub ">
                        <a href="/golfreisen/nordamerika/usa" class="ge-navigation-mega-dropdown__link ge-navigation-mega-dropdown__link--level-2">USA</a>
                    </li>
                
            
        </ul>
    

                        </li>
                    
                        <li class="ge-navigation-mega-dropdown__item ge-navigation-mega-dropdown__item--level-1 ge-navigation-mega-dropdown__item--has-children sub">
                            <div class="ge-navigation-mega-dropdown__link ge-navigation-mega-dropdown__link--level-1">Süd- und Mittelamerika</div>
                            
    
        <ul class="ge-navigation-mega-dropdown__list ge-navigation-mega-dropdown__list--level-2">
            
                
                    <li class="ge-navigation-mega-dropdown__item ge-navigation-mega-dropdown__item--level-2 ge-navigation-mega-dropdown__item--has-children sub ">
                        <a href="/golfreisen/sued-und-mittelamerika/argentinien-brasilien-und-uruguay-1" class="ge-navigation-mega-dropdown__link ge-navigation-mega-dropdown__link--level-2">Argentinien, Brasilien und Uruguay</a>
                    </li>
                
                    <li class="ge-navigation-mega-dropdown__item ge-navigation-mega-dropdown__item--level-2 ge-navigation-mega-dropdown__item--has-children sub ">
                        <a href="/golfreisen/sued-und-mittelamerika/mexiko" class="ge-navigation-mega-dropdown__link ge-navigation-mega-dropdown__link--level-2">Mexiko</a>
                    </li>
                
            
        </ul>
    

                        </li>
                    
                        <li class="ge-navigation-mega-dropdown__item ge-navigation-mega-dropdown__item--level-1 ge-navigation-mega-dropdown__item--has-children sub ">
                            <div class="ge-navigation-mega-dropdown__link ge-navigation-mega-dropdown__link--level-1">Kreuzfahrten</div>
                            
    
        <ul class="ge-navigation-mega-dropdown__list ge-navigation-mega-dropdown__list--level-2">
            
                
                    <li class="ge-navigation-mega-dropdown__item ge-navigation-mega-dropdown__item--level-2  ">
                        <a href="/golfreisen/kreuzfahrten/golf-cruise" class="ge-navigation-mega-dropdown__link ge-navigation-mega-dropdown__link--level-2">Golf &amp; Cruise</a>
                    </li>
                
            
        </ul>
    

                        </li>
                    
                
            </ul>
        </div>
    

                                    
                            </li>
                        
                    
                        
                            <li class="ge-desktop-navigation__item ge-desktop-navigation__item--main ge-desktop-navigation__item--with-subpages sub">
                                <a href="/gruppenreisen" class="ge-desktop-navigation__link ge-desktop-navigation__link--main">Gruppenreisen</a>
                                
                                        
    
        <div class="ge-navigation-mega-dropdown__container">
            <ul class="ge-navigation-mega-dropdown__list ge-navigation-mega-dropdown__list--level-1">
                
                    
                        <li class="ge-navigation-mega-dropdown__item ge-navigation-mega-dropdown__item--level-1 ge-navigation-mega-dropdown__item--has-children sub ">
                            <div class="ge-navigation-mega-dropdown__link ge-navigation-mega-dropdown__link--level-1">November</div>
                            
    
        <ul class="ge-navigation-mega-dropdown__list ge-navigation-mega-dropdown__list--level-2">
            
                
                    <li class="ge-navigation-mega-dropdown__item ge-navigation-mega-dropdown__item--level-2  ">
                        <a href="/gruppenreisen/november/best-of-mexico-los-cabos" class="ge-navigation-mega-dropdown__link ge-navigation-mega-dropdown__link--level-2">Best of Mexiko – Los Cabos</a>
                    </li>
                
            
        </ul>
    

                        </li>
                    
                        <li class="ge-navigation-mega-dropdown__item ge-navigation-mega-dropdown__item--level-1 ge-navigation-mega-dropdown__item--has-children sub">
                            <div class="ge-navigation-mega-dropdown__link ge-navigation-mega-dropdown__link--level-1">Dezember</div>
                            
    
        <ul class="ge-navigation-mega-dropdown__list ge-navigation-mega-dropdown__list--level-2">
            
                
                    <li class="ge-navigation-mega-dropdown__item ge-navigation-mega-dropdown__item--level-2">
                        <a href="/gruppenreisen/silvester-single-reise" class="ge-navigation-mega-dropdown__link ge-navigation-mega-dropdown__link--level-2">Silvester Single Reise Portugal</a>
                    </li>
                
                    <li class="ge-navigation-mega-dropdown__item ge-navigation-mega-dropdown__item--level-2">
                        <a href="/gruppenreisen/silvester-golfreise-in-belek" class="ge-navigation-mega-dropdown__link ge-navigation-mega-dropdown__link--level-2">Silvester in Belek</a>
                    </li>
                
            
        </ul>
    

                        </li>
                    
                        <li class="ge-navigation-mega-dropdown__item ge-navigation-mega-dropdown__item--level-1 ge-navigation-mega-dropdown__item--has-children sub">
                            <div class="ge-navigation-mega-dropdown__link ge-navigation-mega-dropdown__link--level-1">Januar 2025</div>
                            
    
        <ul class="ge-navigation-mega-dropdown__list ge-navigation-mega-dropdown__list--level-2">
            
                
                    <li class="ge-navigation-mega-dropdown__item ge-navigation-mega-dropdown__item--level-2  ">
                        <a href="/gruppenreisen/januar/golf-kultur-in-suedafrika" class="ge-navigation-mega-dropdown__link ge-navigation-mega-dropdown__link--level-2">Golf &amp; Kultur in Südafrika</a>
                    </li>
                
            
        </ul>
    

                        </li>
                    
                        <li class="ge-navigation-mega-dropdown__item ge-navigation-mega-dropdown__item--level-1 ge-navigation-mega-dropdown__item--has-children sub">
                            <div class="ge-navigation-mega-dropdown__link ge-navigation-mega-dropdown__link--level-1">Februar 2025</div>
                            
    
        <ul class="ge-navigation-mega-dropdown__list ge-navigation-mega-dropdown__list--level-2">
            
                
                    <li class="ge-navigation-mega-dropdown__item ge-navigation-mega-dropdown__item--level-2">
                        <a href="/gruppenreisen/golf-cruise-karibik-silver-moon" class="ge-navigation-mega-dropdown__link ge-navigation-mega-dropdown__link--level-2">Golf &amp; Cruise Karibik – Silver Moon</a>
                    </li>
                
                    <li class="ge-navigation-mega-dropdown__item ge-navigation-mega-dropdown__item--level-2">
                        <a href="/gruppenreisen/belek-golf-trophy" class="ge-navigation-mega-dropdown__link ge-navigation-mega-dropdown__link--level-2">Belek Golf Trophy</a>
                    </li>
                
                    <li class="ge-navigation-mega-dropdown__item ge-navigation-mega-dropdown__item--level-2">
                        <a href="/gruppenreisen/fruehjahrsgolfen-auf-mallorca" class="ge-navigation-mega-dropdown__link ge-navigation-mega-dropdown__link--level-2">Frühjahrsgolfen auf Mallorca</a>
                    </li>
                
            
        </ul>
    

                        </li>
                    
                        <li class="ge-navigation-mega-dropdown__item ge-navigation-mega-dropdown__item--level-1 ge-navigation-mega-dropdown__item--has-children sub">
                            <div class="ge-navigation-mega-dropdown__link ge-navigation-mega-dropdown__link--level-1">April 2025</div>
                            
    
        <ul class="ge-navigation-mega-dropdown__list ge-navigation-mega-dropdown__list--level-2">
            
                
                    <li class="ge-navigation-mega-dropdown__item ge-navigation-mega-dropdown__item--level-2  ">
                        <a href="/gruppenreisen/costa-del-sol-golfwoche" class="ge-navigation-mega-dropdown__link ge-navigation-mega-dropdown__link--level-2">Costa del Sol Golfwoche</a>
                    </li>
                
            
        </ul>
    

                        </li>
                    
                        <li class="ge-navigation-mega-dropdown__item ge-navigation-mega-dropdown__item--level-1 ge-navigation-mega-dropdown__item--has-children sub">
                            <div class="ge-navigation-mega-dropdown__link ge-navigation-mega-dropdown__link--level-1">Mai 2025</div>
                            
    
        <ul class="ge-navigation-mega-dropdown__list ge-navigation-mega-dropdown__list--level-2">
            
                
                    <li class="ge-navigation-mega-dropdown__item ge-navigation-mega-dropdown__item--level-2  ">
                        <a href="/gruppenreisen/thracian-cliffs-golfwoche" class="ge-navigation-mega-dropdown__link ge-navigation-mega-dropdown__link--level-2">Thracian Cliffs Golfwoche</a>
                    </li>
                
            
        </ul>
    

                        </li>
                    
                        <li class="ge-navigation-mega-dropdown__item ge-navigation-mega-dropdown__item--level-1 ge-navigation-mega-dropdown__item--has-children sub">
                            <div class="ge-navigation-mega-dropdown__link ge-navigation-mega-dropdown__link--level-1">Juli 2025</div>
                            
    
        <ul class="ge-navigation-mega-dropdown__list ge-navigation-mega-dropdown__list--level-2">
            
                
                    <li class="ge-navigation-mega-dropdown__item ge-navigation-mega-dropdown__item--level-2">
                        <a href="/gruppenreisen/schottland-zum-ursprung-des-golfsports" class="ge-navigation-mega-dropdown__link ge-navigation-mega-dropdown__link--level-2">Schottland | Zum Ursprung des Golfsports</a>
                    </li>
                
                    <li class="ge-navigation-mega-dropdown__item ge-navigation-mega-dropdown__item--level-2">
                        <a href="/gruppenreisen/faszination-finnland" class="ge-navigation-mega-dropdown__link ge-navigation-mega-dropdown__link--level-2">Faszination Finnland</a>
                    </li>
                
            
        </ul>
    

                        </li>
                    
                        <li class="ge-navigation-mega-dropdown__item ge-navigation-mega-dropdown__item--level-1 ge-navigation-mega-dropdown__item--has-children sub">
                            <div class="ge-navigation-mega-dropdown__link ge-navigation-mega-dropdown__link--level-1">September 2025</div>
                            
    
        <ul class="ge-navigation-mega-dropdown__list ge-navigation-mega-dropdown__list--level-2">
            
                
                    <li class="ge-navigation-mega-dropdown__item ge-navigation-mega-dropdown__item--level-2">
                        <a href="/gruppenreisen/golfcruise-mittelmeer-emerald-sakara" class="ge-navigation-mega-dropdown__link ge-navigation-mega-dropdown__link--level-2">Golf &amp; Cruise Mittelmeer – Emerald Sakara</a>
                    </li>
                
                    <li class="ge-navigation-mega-dropdown__item ge-navigation-mega-dropdown__item--level-2">
                        <a href="/gruppenreisen/irland-golfwoche" class="ge-navigation-mega-dropdown__link ge-navigation-mega-dropdown__link--level-2">Irland Golfwoche</a>
                    </li>
                
            
        </ul>
    

                        </li>
                    
                        <li class="ge-navigation-mega-dropdown__item ge-navigation-mega-dropdown__item--level-1 ge-navigation-mega-dropdown__item--has-children sub">
                            <div class="ge-navigation-mega-dropdown__link ge-navigation-mega-dropdown__link--level-1">Oktober 2025</div>
                            
    
        <ul class="ge-navigation-mega-dropdown__list ge-navigation-mega-dropdown__list--level-2">
            
                
                    <li class="ge-navigation-mega-dropdown__item ge-navigation-mega-dropdown__item--level-2  ">
                        <a href="/gruppenreisen/oktober/golf-cruise-rhein-amadeus-star" class="ge-navigation-mega-dropdown__link ge-navigation-mega-dropdown__link--level-2">Golf &amp; Cruise Rhein – Amadeus Star</a>
                    </li>
                
            
        </ul>
    

                        </li>
                    
                        <li class="ge-navigation-mega-dropdown__item ge-navigation-mega-dropdown__item--level-1 ge-navigation-mega-dropdown__item--has-children sub ">
                            <div class="ge-navigation-mega-dropdown__link ge-navigation-mega-dropdown__link--level-1">November 2025</div>
                            
    
        <ul class="ge-navigation-mega-dropdown__list ge-navigation-mega-dropdown__list--level-2">
            
                
                    <li class="ge-navigation-mega-dropdown__item ge-navigation-mega-dropdown__item--level-2  ">
                        <a href="/gruppenreisen/golfcruise-iberische-inseln" class="ge-navigation-mega-dropdown__link ge-navigation-mega-dropdown__link--level-2">Golf &amp; Cruise Iberische Inseln – Silver Dawn</a>
                    </li>
                
            
        </ul>
    

                        </li>
                    
                
            </ul>
        </div>
    

                                    
                            </li>
                        
                    
                        
                            <li class="ge-desktop-navigation__item ge-desktop-navigation__item--main ge-desktop-navigation__item--with-subpages sub">
                                <a href="/turnierbesuche" class="ge-desktop-navigation__link ge-desktop-navigation__link--main">Turnierbesuche</a>
                                
                                        
    
        <ul class="ge-navigation-dropdown__list ge-navigation-dropdown__list--level-1">
            
                
                    <li class="ge-navigation-dropdown__item ge-navigation-dropdown__item--level-1">
                        <a href="/turnierbesuche/ryder-cup-2025" class="ge-navigation-dropdown__link ge-navigation-dropdown__link--level-1">Ryder Cup 2025</a>
                        
    

                    </li>
                
                    <li class="ge-navigation-dropdown__item ge-navigation-dropdown__item--level-1">
                        <a href="/turnierbesuche/ryder-cup-2027" class="ge-navigation-dropdown__link ge-navigation-dropdown__link--level-1">Ryder Cup 2027</a>
                        
    

                    </li>
                
            
        </ul>
    

                                    
                            </li>
                        
                    
                        
                    
                        
                    
                        
                    
                </ul>
                
                    <div class="ge-desktop-navigation__logo">
                        
                            <a href="/" title="golf.extra-Startseite" class="ge-desktop-navigation__logo-link">
                                <img class="ge-desktop-navigation__logo-image" title="golf.extra-Startseite" src="/fileadmin/user_upload/golf-extra-logo.svg" width="212" height="212" alt="" />
                            </a>
                        
                    </div>
                
                <ul class="ge-desktop-navigation__list ge-desktop-navigation__list--main-right">
                    
                        
                    
                        
                    
                        
                    
                        
                            <li class="ge-desktop-navigation__item ge-desktop-navigation__item--main">
                                <a href="/inspiration" class="ge-desktop-navigation__link ge-desktop-navigation__link--main">Inspiration</a>
                                
                                        
    

                                    
                            </li>
                        
                    
                        
                            <li class="ge-desktop-navigation__item ge-desktop-navigation__item--main">
                                <a href="/pga-professionals" class="ge-desktop-navigation__link ge-desktop-navigation__link--main">PGA-Professionals</a>
                                
                                        
    

                                    
                            </li>
                        
                    
                        
                            <li class="ge-desktop-navigation__item ge-desktop-navigation__item--main ge-desktop-navigation__item--with-subpages sub ">
                                <a href="/ueber-uns" class="ge-desktop-navigation__link ge-desktop-navigation__link--main">Über uns</a>
                                
                                        
    
        <ul class="ge-navigation-dropdown__list ge-navigation-dropdown__list--level-1">
            
                
                    <li class="ge-navigation-dropdown__item ge-navigation-dropdown__item--level-1">
                        <a href="/ueber-uns/unser-team" class="ge-navigation-dropdown__link ge-navigation-dropdown__link--level-1">Team</a>
                        
    

                    </li>
                
                    <li class="ge-navigation-dropdown__item ge-navigation-dropdown__item--level-1 ge-navigation-dropdown__item--has-children sub">
                        <a href="/ueber-uns/karriere" class="ge-navigation-dropdown__link ge-navigation-dropdown__link--level-1">Karriere</a>
                        
    
        <ul class="ge-navigation-dropdown__list ge-navigation-dropdown__list--level-2">
            
                
                    <li class="ge-navigation-dropdown__item ge-navigation-dropdown__item--level-2">
                        <a href="/ueber-uns/karriere/warum-emu" class="ge-navigation-dropdown__link ge-navigation-dropdown__link--level-2">Warum EMU?</a>
                    </li>
                
                    <li class="ge-navigation-dropdown__item ge-navigation-dropdown__item--level-2">
                        <a href="/ueber-uns/karriere/praktikant-marketing" class="ge-navigation-dropdown__link ge-navigation-dropdown__link--level-2">Praktikant Marketing</a>
                    </li>
                
                    <li class="ge-navigation-dropdown__item ge-navigation-dropdown__item--level-2">
                        <a href="/ueber-uns/karriere/tourismuskauffrau/-tourismuskaufmann" class="ge-navigation-dropdown__link ge-navigation-dropdown__link--level-2">Tourismuskauffrau/ Tourismuskaufmann</a>
                    </li>
                
                    <li class="ge-navigation-dropdown__item ge-navigation-dropdown__item--level-2">
                        <a href="/ueber-uns/karriere/studium" class="ge-navigation-dropdown__link ge-navigation-dropdown__link--level-2">Studium</a>
                    </li>
                
            
        </ul>
    

                    </li>
                
                    <li class="ge-navigation-dropdown__item ge-navigation-dropdown__item--level-1">
                        <a href="/ueber-uns/unsere-partner" class="ge-navigation-dropdown__link ge-navigation-dropdown__link--level-1">Partnerschaften</a>
                        
    

                    </li>
                
                    <li class="ge-navigation-dropdown__item ge-navigation-dropdown__item--level-1">
                        <a href="/ueber-uns/pressebereich" class="ge-navigation-dropdown__link ge-navigation-dropdown__link--level-1">Presse</a>
                        
    

                    </li>
                
                    <li class="ge-navigation-dropdown__item ge-navigation-dropdown__item--level-1 ge-navigation-dropdown__item--has-children sub ">
                        <a href="/ueber-uns/rechtliches" class="ge-navigation-dropdown__link ge-navigation-dropdown__link--level-1">Rechtliches</a>
                        
    
        <ul class="ge-navigation-dropdown__list ge-navigation-dropdown__list--level-2">
            
                
                    <li class="ge-navigation-dropdown__item ge-navigation-dropdown__item--level-2">
                        <a href="/ueber-uns/rechtliches/reisebedingungen" class="ge-navigation-dropdown__link ge-navigation-dropdown__link--level-2">Reisebedingungen</a>
                    </li>
                
                    <li class="ge-navigation-dropdown__item ge-navigation-dropdown__item--level-2">
                        <a href="/ueber-uns/rechtliches/datenschutz" class="ge-navigation-dropdown__link ge-navigation-dropdown__link--level-2">Datenschutz</a>
                    </li>
                
                    <li class="ge-navigation-dropdown__item ge-navigation-dropdown__item--level-2">
                        <a href="/ueber-uns/rechtliches/impressum" class="ge-navigation-dropdown__link ge-navigation-dropdown__link--level-2">Impressum</a>
                    </li>
                
                    <li class="ge-navigation-dropdown__item ge-navigation-dropdown__item--level-2">
                        <a href="/ueber-uns/rechtliches/airline-blacklist" class="ge-navigation-dropdown__link ge-navigation-dropdown__link--level-2">Airline Blacklist</a>
                    </li>
                
            
        </ul>
    

                    </li>
                
            
        </ul>
    

                                    
                            </li>
                        
                    
                </ul>
            
        
    </nav>

    
    <header class="ge-mobile-header__container">
        
    <nav class="ge-mobile-meta-navigation__container">
        
            <div class="ge-mobile-meta-navigation__logo-container">
                
                    <a href="/" title="golf.extra-Startseite" class="ge-mobile-meta-navigation__logo-link">
                        <img class="ge-mobile-meta-navigation__logo-image" title="golf.extra-Startseite" src="/fileadmin/user_upload/golf-extra-logo.svg" width="212" height="212" alt="" />
                    </a>
                
            </div>
        
        
            <ul class="ge-mobile-meta-navigation__list">
                
                    <li class="ge-mobile-meta-navigation__item">
                        
                            <a href="/suche" class="ge-mobile-meta-navigation__link"><i class="las la-search"></i></a>
                        
                    </li>
                
                    <li class="ge-mobile-meta-navigation__item">
                        
                            <a href="tel:+49713127765400" class="ge-mobile-meta-navigation__link"><i class="las la-phone"></i></a>
                        
                    </li>
                
                    <li class="ge-mobile-meta-navigation__item">
                        
                            <a href="/ueber-uns/karriere" class="ge-mobile-meta-navigation__link"><i class="las la-graduation-cap"></i></a>
                        
                    </li>
                
            </ul>
        
        <div class="ge-mobile-meta-navigation__burger-icon">
            <span class="ge-mobile-meta-navigation__burger-icon--item"></span>
            <span class="ge-mobile-meta-navigation__burger-icon--item"></span>
            <span class="ge-mobile-meta-navigation__burger-icon--item"></span>
        </div>
    </nav>

        
    
        
            <nav class="ge-mobile-main-navigation__container">
                <ul class="ge-mobile-main-navigation__list ge-mobile-main-navigation__list--level-0">
                    
                        <li class="ge-mobile-main-navigation__item ge-mobile-main-navigation__item--level-0 ge-mobile-main-navigation__item--parent sub ">
                            <a href="/golfreisen" class="ge-mobile-main-navigation__link ge-mobile-main-navigation__link--level-0 ge-mobile-main-navigation__link--parent">
                                <span class="ge-mobile-main-navigation__link--next ge-mobile-main-navigation__link--next--level-0"><i class="las la-arrow-right"></i></span>
                                <span class="ge-mobile-main-navigation__link--title">Golfreisen</span>
                            </a>
                            
                                
    
        
            <ul class="ge-mobile-main-navigation__list ge-mobile-main-navigation__list--level-1">
                <li class="ge-mobile-main-navigation__item ge-mobile-main-navigation__item--level-1 ge-mobile-main-navigation__item--headline">
                    <div class="ge-mobile-main-navigation__link ge-mobile-main-navigation__link--level-1 ge-mobile-main-navigation__link--headline">
                        <span class="ge-mobile-main-navigation__link--return ge-mobile-main-navigation__link--return--level-1"><i class="las la-arrow-left"></i></span>
                        <span class="ge-mobile-main-navigation__link--title">Golfreisen</span>
                    </div>
                </li>
                
                    <li class="ge-mobile-main-navigation__item ge-mobile-main-navigation__item--level-1 ge-mobile-main-navigation__item--parent sub ">
                        <a href="/golfreisen/europa" class="ge-mobile-main-navigation__link ge-mobile-main-navigation__link--level-1 ge-mobile-main-navigation__link--parent">
                            <span class="ge-mobile-main-navigation__link--next ge-mobile-main-navigation__link--next--level-1" data-submenu="#mobile-submenu-1-1"><i class="las la-arrow-right"></i></span>
                            <span class="ge-mobile-main-navigation__link--title">Europa</span>
                        </a>
                    </li>
                
                    <li class="ge-mobile-main-navigation__item ge-mobile-main-navigation__item--level-1 ge-mobile-main-navigation__item--parent sub">
                        <a href="/golfreisen/afrika" class="ge-mobile-main-navigation__link ge-mobile-main-navigation__link--level-1 ge-mobile-main-navigation__link--parent">
                            <span class="ge-mobile-main-navigation__link--next ge-mobile-main-navigation__link--next--level-1" data-submenu="#mobile-submenu-1-2"><i class="las la-arrow-right"></i></span>
                            <span class="ge-mobile-main-navigation__link--title">Afrika</span>
                        </a>
                    </li>
                
                    <li class="ge-mobile-main-navigation__item ge-mobile-main-navigation__item--level-1 ge-mobile-main-navigation__item--parent sub">
                        <a href="/golfreisen/orient" class="ge-mobile-main-navigation__link ge-mobile-main-navigation__link--level-1 ge-mobile-main-navigation__link--parent">
                            <span class="ge-mobile-main-navigation__link--next ge-mobile-main-navigation__link--next--level-1" data-submenu="#mobile-submenu-1-3"><i class="las la-arrow-right"></i></span>
                            <span class="ge-mobile-main-navigation__link--title">Orient</span>
                        </a>
                    </li>
                
                    <li class="ge-mobile-main-navigation__item ge-mobile-main-navigation__item--level-1 ge-mobile-main-navigation__item--parent sub">
                        <a href="/golfreisen/indischer-ozean" class="ge-mobile-main-navigation__link ge-mobile-main-navigation__link--level-1 ge-mobile-main-navigation__link--parent">
                            <span class="ge-mobile-main-navigation__link--next ge-mobile-main-navigation__link--next--level-1" data-submenu="#mobile-submenu-1-4"><i class="las la-arrow-right"></i></span>
                            <span class="ge-mobile-main-navigation__link--title">Indischer Ozean</span>
                        </a>
                    </li>
                
                    <li class="ge-mobile-main-navigation__item ge-mobile-main-navigation__item--level-1 ge-mobile-main-navigation__item--parent sub">
                        <a href="/golfreisen/asien" class="ge-mobile-main-navigation__link ge-mobile-main-navigation__link--level-1 ge-mobile-main-navigation__link--parent">
                            <span class="ge-mobile-main-navigation__link--next ge-mobile-main-navigation__link--next--level-1" data-submenu="#mobile-submenu-1-5"><i class="las la-arrow-right"></i></span>
                            <span class="ge-mobile-main-navigation__link--title">Asien</span>
                        </a>
                    </li>
                
                    <li class="ge-mobile-main-navigation__item ge-mobile-main-navigation__item--level-1 ge-mobile-main-navigation__item--parent sub">
                        <a href="/golfreisen/australien-und-ozeanien" class="ge-mobile-main-navigation__link ge-mobile-main-navigation__link--level-1 ge-mobile-main-navigation__link--parent">
                            <span class="ge-mobile-main-navigation__link--next ge-mobile-main-navigation__link--next--level-1" data-submenu="#mobile-submenu-1-6"><i class="las la-arrow-right"></i></span>
                            <span class="ge-mobile-main-navigation__link--title">Australien und Ozeanien</span>
                        </a>
                    </li>
                
                    <li class="ge-mobile-main-navigation__item ge-mobile-main-navigation__item--level-1 ge-mobile-main-navigation__item--parent sub">
                        <a href="/golfreisen/karibik" class="ge-mobile-main-navigation__link ge-mobile-main-navigation__link--level-1 ge-mobile-main-navigation__link--parent">
                            <span class="ge-mobile-main-navigation__link--next ge-mobile-main-navigation__link--next--level-1" data-submenu="#mobile-submenu-1-7"><i class="las la-arrow-right"></i></span>
                            <span class="ge-mobile-main-navigation__link--title">Karibik</span>
                        </a>
                    </li>
                
                    <li class="ge-mobile-main-navigation__item ge-mobile-main-navigation__item--level-1 ge-mobile-main-navigation__item--parent sub">
                        <a href="/golfreisen/nordamerika" class="ge-mobile-main-navigation__link ge-mobile-main-navigation__link--level-1 ge-mobile-main-navigation__link--parent">
                            <span class="ge-mobile-main-navigation__link--next ge-mobile-main-navigation__link--next--level-1" data-submenu="#mobile-submenu-1-8"><i class="las la-arrow-right"></i></span>
                            <span class="ge-mobile-main-navigation__link--title">Nordamerika</span>
                        </a>
                    </li>
                
                    <li class="ge-mobile-main-navigation__item ge-mobile-main-navigation__item--level-1 ge-mobile-main-navigation__item--parent sub">
                        <a href="/golfreisen/sued-und-mittelamerika" class="ge-mobile-main-navigation__link ge-mobile-main-navigation__link--level-1 ge-mobile-main-navigation__link--parent">
                            <span class="ge-mobile-main-navigation__link--next ge-mobile-main-navigation__link--next--level-1" data-submenu="#mobile-submenu-1-9"><i class="las la-arrow-right"></i></span>
                            <span class="ge-mobile-main-navigation__link--title">Süd- und Mittelamerika</span>
                        </a>
                    </li>
                
                    <li class="ge-mobile-main-navigation__item ge-mobile-main-navigation__item--level-1 ge-mobile-main-navigation__item--parent sub ">
                        <a href="/golfreisen/kreuzfahrten" class="ge-mobile-main-navigation__link ge-mobile-main-navigation__link--level-1 ge-mobile-main-navigation__link--parent">
                            <span class="ge-mobile-main-navigation__link--next ge-mobile-main-navigation__link--next--level-1" data-submenu="#mobile-submenu-1-10"><i class="las la-arrow-right"></i></span>
                            <span class="ge-mobile-main-navigation__link--title">Kreuzfahrten</span>
                        </a>
                    </li>
                
            </ul>
            
                
                    
    
        
            <ul class="ge-mobile-main-navigation__list ge-mobile-main-navigation__list--level-2" id="mobile-submenu-1-1">
                <li class="ge-mobile-main-navigation__item ge-mobile-main-navigation__item--level-2 ge-mobile-main-navigation__item--headline">
                    <span class="ge-mobile-main-navigation__link ge-mobile-main-navigation__link--level-2 ge-mobile-main-navigation__link--headline">
                        <span class="ge-mobile-main-navigation__link--return ge-mobile-main-navigation__link--return--level-2"><i class="las la-arrow-left"></i></span>
                        <span class="ge-mobile-main-navigation__link--title">Europa</span>
                    </span>
                </li>
                
                    <li class="ge-mobile-main-navigation__item ge-mobile-main-navigation__item--level-2">
                        <a href="/golfreisen/europa/bulgarien" class="ge-mobile-main-navigation__link ge-mobile-main-navigation__link--level-2">
                            <span class="ge-mobile-main-navigation__link--title">Bulgarien</span>
                        </a>
                    </li>
                
                    <li class="ge-mobile-main-navigation__item ge-mobile-main-navigation__item--level-2">
                        <a href="/golfreisen/europa/deutschland" class="ge-mobile-main-navigation__link ge-mobile-main-navigation__link--level-2">
                            <span class="ge-mobile-main-navigation__link--title">Deutschland</span>
                        </a>
                    </li>
                
                    <li class="ge-mobile-main-navigation__item ge-mobile-main-navigation__item--level-2">
                        <a href="/golfreisen/europa/england" class="ge-mobile-main-navigation__link ge-mobile-main-navigation__link--level-2">
                            <span class="ge-mobile-main-navigation__link--title">England</span>
                        </a>
                    </li>
                
                    <li class="ge-mobile-main-navigation__item ge-mobile-main-navigation__item--level-2">
                        <a href="/golfreisen/europa/finnland" class="ge-mobile-main-navigation__link ge-mobile-main-navigation__link--level-2">
                            <span class="ge-mobile-main-navigation__link--title">Finnland</span>
                        </a>
                    </li>
                
                    <li class="ge-mobile-main-navigation__item ge-mobile-main-navigation__item--level-2">
                        <a href="/golfreisen/europa/frankreich" class="ge-mobile-main-navigation__link ge-mobile-main-navigation__link--level-2">
                            <span class="ge-mobile-main-navigation__link--title">Frankreich</span>
                        </a>
                    </li>
                
                    <li class="ge-mobile-main-navigation__item ge-mobile-main-navigation__item--level-2 sub">
                        <a href="/golfreisen/europa/griechenland" class="ge-mobile-main-navigation__link ge-mobile-main-navigation__link--level-2">
                            <span class="ge-mobile-main-navigation__link--title">Griechenland</span>
                        </a>
                    </li>
                
                    <li class="ge-mobile-main-navigation__item ge-mobile-main-navigation__item--level-2 sub">
                        <a href="/golfreisen/europa/italien" class="ge-mobile-main-navigation__link ge-mobile-main-navigation__link--level-2">
                            <span class="ge-mobile-main-navigation__link--title">Italien</span>
                        </a>
                    </li>
                
                    <li class="ge-mobile-main-navigation__item ge-mobile-main-navigation__item--level-2 sub">
                        <a href="/golfreisen/europa/irland" class="ge-mobile-main-navigation__link ge-mobile-main-navigation__link--level-2">
                            <span class="ge-mobile-main-navigation__link--title">Irland</span>
                        </a>
                    </li>
                
                    <li class="ge-mobile-main-navigation__item ge-mobile-main-navigation__item--level-2 sub">
                        <a href="/golfreisen/europa/island" class="ge-mobile-main-navigation__link ge-mobile-main-navigation__link--level-2">
                            <span class="ge-mobile-main-navigation__link--title">Island</span>
                        </a>
                    </li>
                
                    <li class="ge-mobile-main-navigation__item ge-mobile-main-navigation__item--level-2">
                        <a href="/golfreisen/europa/lettland" class="ge-mobile-main-navigation__link ge-mobile-main-navigation__link--level-2">
                            <span class="ge-mobile-main-navigation__link--title">Lettland</span>
                        </a>
                    </li>
                
                    <li class="ge-mobile-main-navigation__item ge-mobile-main-navigation__item--level-2">
                        <a href="/golfreisen/europa/nordirland" class="ge-mobile-main-navigation__link ge-mobile-main-navigation__link--level-2">
                            <span class="ge-mobile-main-navigation__link--title">Nordirland</span>
                        </a>
                    </li>
                
                    <li class="ge-mobile-main-navigation__item ge-mobile-main-navigation__item--level-2">
                        <a href="/golfreisen/europa/norwegen" class="ge-mobile-main-navigation__link ge-mobile-main-navigation__link--level-2">
                            <span class="ge-mobile-main-navigation__link--title">Norwegen</span>
                        </a>
                    </li>
                
                    <li class="ge-mobile-main-navigation__item ge-mobile-main-navigation__item--level-2 sub">
                        <a href="/golfreisen/europa/portugal" class="ge-mobile-main-navigation__link ge-mobile-main-navigation__link--level-2">
                            <span class="ge-mobile-main-navigation__link--title">Portugal</span>
                        </a>
                    </li>
                
                    <li class="ge-mobile-main-navigation__item ge-mobile-main-navigation__item--level-2 sub">
                        <a href="/golfreisen/europa/schottland" class="ge-mobile-main-navigation__link ge-mobile-main-navigation__link--level-2">
                            <span class="ge-mobile-main-navigation__link--title">Schottland</span>
                        </a>
                    </li>
                
                    <li class="ge-mobile-main-navigation__item ge-mobile-main-navigation__item--level-2">
                        <a href="/golfreisen/europa/schweden" class="ge-mobile-main-navigation__link ge-mobile-main-navigation__link--level-2">
                            <span class="ge-mobile-main-navigation__link--title">Schweden</span>
                        </a>
                    </li>
                
                    <li class="ge-mobile-main-navigation__item ge-mobile-main-navigation__item--level-2">
                        <a href="/golfreisen/europa/slowenien" class="ge-mobile-main-navigation__link ge-mobile-main-navigation__link--level-2">
                            <span class="ge-mobile-main-navigation__link--title">Slowenien</span>
                        </a>
                    </li>
                
                    <li class="ge-mobile-main-navigation__item ge-mobile-main-navigation__item--level-2 sub">
                        <a href="/golfreisen/europa/spanien" class="ge-mobile-main-navigation__link ge-mobile-main-navigation__link--level-2">
                            <span class="ge-mobile-main-navigation__link--title">Spanien</span>
                        </a>
                    </li>
                
                    <li class="ge-mobile-main-navigation__item ge-mobile-main-navigation__item--level-2">
                        <a href="/golfreisen/europa/tschechien" class="ge-mobile-main-navigation__link ge-mobile-main-navigation__link--level-2">
                            <span class="ge-mobile-main-navigation__link--title">Tschechien</span>
                        </a>
                    </li>
                
                    <li class="ge-mobile-main-navigation__item ge-mobile-main-navigation__item--level-2">
                        <a href="/golfreisen/europa/tuerkei" class="ge-mobile-main-navigation__link ge-mobile-main-navigation__link--level-2">
                            <span class="ge-mobile-main-navigation__link--title">Türkei</span>
                        </a>
                    </li>
                
                    <li class="ge-mobile-main-navigation__item ge-mobile-main-navigation__item--level-2">
                        <a href="/golfreisen/europa/wales" class="ge-mobile-main-navigation__link ge-mobile-main-navigation__link--level-2">
                            <span class="ge-mobile-main-navigation__link--title">Wales</span>
                        </a>
                    </li>
                
                    <li class="ge-mobile-main-navigation__item ge-mobile-main-navigation__item--level-2">
                        <a href="/golfreisen/europa/zypern" class="ge-mobile-main-navigation__link ge-mobile-main-navigation__link--level-2">
                            <span class="ge-mobile-main-navigation__link--title">Zypern</span>
                        </a>
                    </li>
                
            </ul>
        
    

                
            
                
                    
    
        
            <ul class="ge-mobile-main-navigation__list ge-mobile-main-navigation__list--level-2" id="mobile-submenu-1-2">
                <li class="ge-mobile-main-navigation__item ge-mobile-main-navigation__item--level-2 ge-mobile-main-navigation__item--headline">
                    <span class="ge-mobile-main-navigation__link ge-mobile-main-navigation__link--level-2 ge-mobile-main-navigation__link--headline">
                        <span class="ge-mobile-main-navigation__link--return ge-mobile-main-navigation__link--return--level-2"><i class="las la-arrow-left"></i></span>
                        <span class="ge-mobile-main-navigation__link--title">Afrika</span>
                    </span>
                </li>
                
                    <li class="ge-mobile-main-navigation__item ge-mobile-main-navigation__item--level-2">
                        <a href="/golfreisen/afrika/aegypten" class="ge-mobile-main-navigation__link ge-mobile-main-navigation__link--level-2">
                            <span class="ge-mobile-main-navigation__link--title">Ägypten</span>
                        </a>
                    </li>
                
                    <li class="ge-mobile-main-navigation__item ge-mobile-main-navigation__item--level-2 sub">
                        <a href="/golfreisen/afrika/marokko" class="ge-mobile-main-navigation__link ge-mobile-main-navigation__link--level-2">
                            <span class="ge-mobile-main-navigation__link--title">Marokko</span>
                        </a>
                    </li>
                
                    <li class="ge-mobile-main-navigation__item ge-mobile-main-navigation__item--level-2 sub ">
                        <a href="/golfreisen/afrika/suedafrika" class="ge-mobile-main-navigation__link ge-mobile-main-navigation__link--level-2">
                            <span class="ge-mobile-main-navigation__link--title">Südafrika</span>
                        </a>
                    </li>
                
            </ul>
        
    

                
            
                
                    
    
        
            <ul class="ge-mobile-main-navigation__list ge-mobile-main-navigation__list--level-2" id="mobile-submenu-1-3">
                <li class="ge-mobile-main-navigation__item ge-mobile-main-navigation__item--level-2 ge-mobile-main-navigation__item--headline">
                    <span class="ge-mobile-main-navigation__link ge-mobile-main-navigation__link--level-2 ge-mobile-main-navigation__link--headline">
                        <span class="ge-mobile-main-navigation__link--return ge-mobile-main-navigation__link--return--level-2"><i class="las la-arrow-left"></i></span>
                        <span class="ge-mobile-main-navigation__link--title">Orient</span>
                    </span>
                </li>
                
                    <li class="ge-mobile-main-navigation__item ge-mobile-main-navigation__item--level-2 sub ">
                        <a href="/golfreisen/orient/abu-dhabi" class="ge-mobile-main-navigation__link ge-mobile-main-navigation__link--level-2">
                            <span class="ge-mobile-main-navigation__link--title">Abu Dhabi</span>
                        </a>
                    </li>
                
                    <li class="ge-mobile-main-navigation__item ge-mobile-main-navigation__item--level-2">
                        <a href="/golfreisen/orient/ajman" class="ge-mobile-main-navigation__link ge-mobile-main-navigation__link--level-2">
                            <span class="ge-mobile-main-navigation__link--title">Ajman</span>
                        </a>
                    </li>
                
                    <li class="ge-mobile-main-navigation__item ge-mobile-main-navigation__item--level-2">
                        <a href="/golfreisen/orient/dubai" class="ge-mobile-main-navigation__link ge-mobile-main-navigation__link--level-2">
                            <span class="ge-mobile-main-navigation__link--title">Dubai</span>
                        </a>
                    </li>
                
                    <li class="ge-mobile-main-navigation__item ge-mobile-main-navigation__item--level-2">
                        <a href="/golfreisen/orient/jordanien" class="ge-mobile-main-navigation__link ge-mobile-main-navigation__link--level-2">
                            <span class="ge-mobile-main-navigation__link--title">Jordanien</span>
                        </a>
                    </li>
                
                    <li class="ge-mobile-main-navigation__item ge-mobile-main-navigation__item--level-2">
                        <a href="/golfreisen/orient/katar" class="ge-mobile-main-navigation__link ge-mobile-main-navigation__link--level-2">
                            <span class="ge-mobile-main-navigation__link--title">Katar</span>
                        </a>
                    </li>
                
                    <li class="ge-mobile-main-navigation__item ge-mobile-main-navigation__item--level-2">
                        <a href="/golfreisen/orient/oman" class="ge-mobile-main-navigation__link ge-mobile-main-navigation__link--level-2">
                            <span class="ge-mobile-main-navigation__link--title">Oman</span>
                        </a>
                    </li>
                
                    <li class="ge-mobile-main-navigation__item ge-mobile-main-navigation__item--level-2">
                        <a href="/golfreisen/orient/ras-al-khaimah" class="ge-mobile-main-navigation__link ge-mobile-main-navigation__link--level-2">
                            <span class="ge-mobile-main-navigation__link--title">Ras al Khaimah</span>
                        </a>
                    </li>
                
            </ul>
        
    

                
            
                
                    
    
        
            <ul class="ge-mobile-main-navigation__list ge-mobile-main-navigation__list--level-2" id="mobile-submenu-1-4">
                <li class="ge-mobile-main-navigation__item ge-mobile-main-navigation__item--level-2 ge-mobile-main-navigation__item--headline">
                    <span class="ge-mobile-main-navigation__link ge-mobile-main-navigation__link--level-2 ge-mobile-main-navigation__link--headline">
                        <span class="ge-mobile-main-navigation__link--return ge-mobile-main-navigation__link--return--level-2"><i class="las la-arrow-left"></i></span>
                        <span class="ge-mobile-main-navigation__link--title">Indischer Ozean</span>
                    </span>
                </li>
                
                    <li class="ge-mobile-main-navigation__item ge-mobile-main-navigation__item--level-2 sub ">
                        <a href="/golfreisen/indischer-ozean/mauritius" class="ge-mobile-main-navigation__link ge-mobile-main-navigation__link--level-2">
                            <span class="ge-mobile-main-navigation__link--title">Mauritius</span>
                        </a>
                    </li>
                
                    <li class="ge-mobile-main-navigation__item ge-mobile-main-navigation__item--level-2">
                        <a href="/golfreisen/indischer-ozean/seychellen" class="ge-mobile-main-navigation__link ge-mobile-main-navigation__link--level-2">
                            <span class="ge-mobile-main-navigation__link--title">Seychellen</span>
                        </a>
                    </li>
                
            </ul>
        
    

                
            
                
                    
    
        
            <ul class="ge-mobile-main-navigation__list ge-mobile-main-navigation__list--level-2" id="mobile-submenu-1-5">
                <li class="ge-mobile-main-navigation__item ge-mobile-main-navigation__item--level-2 ge-mobile-main-navigation__item--headline">
                    <span class="ge-mobile-main-navigation__link ge-mobile-main-navigation__link--level-2 ge-mobile-main-navigation__link--headline">
                        <span class="ge-mobile-main-navigation__link--return ge-mobile-main-navigation__link--return--level-2"><i class="las la-arrow-left"></i></span>
                        <span class="ge-mobile-main-navigation__link--title">Asien</span>
                    </span>
                </li>
                
                    <li class="ge-mobile-main-navigation__item ge-mobile-main-navigation__item--level-2 sub ">
                        <a href="/golfreisen/asien/china" class="ge-mobile-main-navigation__link ge-mobile-main-navigation__link--level-2">
                            <span class="ge-mobile-main-navigation__link--title">China</span>
                        </a>
                    </li>
                
                    <li class="ge-mobile-main-navigation__item ge-mobile-main-navigation__item--level-2 sub">
                        <a href="/golfreisen/asien/indien" class="ge-mobile-main-navigation__link ge-mobile-main-navigation__link--level-2">
                            <span class="ge-mobile-main-navigation__link--title">Indien</span>
                        </a>
                    </li>
                
                    <li class="ge-mobile-main-navigation__item ge-mobile-main-navigation__item--level-2 sub">
                        <a href="/golfreisen/asien/indonesien" class="ge-mobile-main-navigation__link ge-mobile-main-navigation__link--level-2">
                            <span class="ge-mobile-main-navigation__link--title">Indonesien</span>
                        </a>
                    </li>
                
                    <li class="ge-mobile-main-navigation__item ge-mobile-main-navigation__item--level-2 sub">
                        <a href="/golfreisen/asien/japan" class="ge-mobile-main-navigation__link ge-mobile-main-navigation__link--level-2">
                            <span class="ge-mobile-main-navigation__link--title">Japan</span>
                        </a>
                    </li>
                
                    <li class="ge-mobile-main-navigation__item ge-mobile-main-navigation__item--level-2">
                        <a href="/golfreisen/asien/kambodscha" class="ge-mobile-main-navigation__link ge-mobile-main-navigation__link--level-2">
                            <span class="ge-mobile-main-navigation__link--title">Kambodscha</span>
                        </a>
                    </li>
                
                    <li class="ge-mobile-main-navigation__item ge-mobile-main-navigation__item--level-2">
                        <a href="/golfreisen/asien/malaysia" class="ge-mobile-main-navigation__link ge-mobile-main-navigation__link--level-2">
                            <span class="ge-mobile-main-navigation__link--title">Malaysia</span>
                        </a>
                    </li>
                
                    <li class="ge-mobile-main-navigation__item ge-mobile-main-navigation__item--level-2">
                        <a href="/golfreisen/asien/sri-lanka" class="ge-mobile-main-navigation__link ge-mobile-main-navigation__link--level-2">
                            <span class="ge-mobile-main-navigation__link--title">Sri Lanka</span>
                        </a>
                    </li>
                
                    <li class="ge-mobile-main-navigation__item ge-mobile-main-navigation__item--level-2 sub">
                        <a href="/golfreisen/asien/thailand" class="ge-mobile-main-navigation__link ge-mobile-main-navigation__link--level-2">
                            <span class="ge-mobile-main-navigation__link--title">Thailand</span>
                        </a>
                    </li>
                
                    <li class="ge-mobile-main-navigation__item ge-mobile-main-navigation__item--level-2 sub ">
                        <a href="/golfreisen/asien/vietnam" class="ge-mobile-main-navigation__link ge-mobile-main-navigation__link--level-2">
                            <span class="ge-mobile-main-navigation__link--title">Vietnam</span>
                        </a>
                    </li>
                
            </ul>
        
    

                
            
                
                    
    
        
            <ul class="ge-mobile-main-navigation__list ge-mobile-main-navigation__list--level-2" id="mobile-submenu-1-6">
                <li class="ge-mobile-main-navigation__item ge-mobile-main-navigation__item--level-2 ge-mobile-main-navigation__item--headline">
                    <span class="ge-mobile-main-navigation__link ge-mobile-main-navigation__link--level-2 ge-mobile-main-navigation__link--headline">
                        <span class="ge-mobile-main-navigation__link--return ge-mobile-main-navigation__link--return--level-2"><i class="las la-arrow-left"></i></span>
                        <span class="ge-mobile-main-navigation__link--title">Australien und Ozeanien</span>
                    </span>
                </li>
                
                    <li class="ge-mobile-main-navigation__item ge-mobile-main-navigation__item--level-2 sub ">
                        <a href="/golfreisen/australien-und-ozeanien/australien" class="ge-mobile-main-navigation__link ge-mobile-main-navigation__link--level-2">
                            <span class="ge-mobile-main-navigation__link--title">Australien</span>
                        </a>
                    </li>
                
                    <li class="ge-mobile-main-navigation__item ge-mobile-main-navigation__item--level-2 sub ">
                        <a href="/golfreisen/australien-und-ozeanien/neuseeland" class="ge-mobile-main-navigation__link ge-mobile-main-navigation__link--level-2">
                            <span class="ge-mobile-main-navigation__link--title">Neuseeland</span>
                        </a>
                    </li>
                
            </ul>
        
    

                
            
                
                    
    
        
            <ul class="ge-mobile-main-navigation__list ge-mobile-main-navigation__list--level-2" id="mobile-submenu-1-7">
                <li class="ge-mobile-main-navigation__item ge-mobile-main-navigation__item--level-2 ge-mobile-main-navigation__item--headline">
                    <span class="ge-mobile-main-navigation__link ge-mobile-main-navigation__link--level-2 ge-mobile-main-navigation__link--headline">
                        <span class="ge-mobile-main-navigation__link--return ge-mobile-main-navigation__link--return--level-2"><i class="las la-arrow-left"></i></span>
                        <span class="ge-mobile-main-navigation__link--title">Karibik</span>
                    </span>
                </li>
                
                    <li class="ge-mobile-main-navigation__item ge-mobile-main-navigation__item--level-2">
                        <a href="/golfreisen/karibik/barbados" class="ge-mobile-main-navigation__link ge-mobile-main-navigation__link--level-2">
                            <span class="ge-mobile-main-navigation__link--title">Barbados</span>
                        </a>
                    </li>
                
                    <li class="ge-mobile-main-navigation__item ge-mobile-main-navigation__item--level-2">
                        <a href="/golfreisen/karibik/bermuda" class="ge-mobile-main-navigation__link ge-mobile-main-navigation__link--level-2">
                            <span class="ge-mobile-main-navigation__link--title">Bermuda</span>
                        </a>
                    </li>
                
                    <li class="ge-mobile-main-navigation__item ge-mobile-main-navigation__item--level-2">
                        <a href="/golfreisen/karibik/dominikanische-republik" class="ge-mobile-main-navigation__link ge-mobile-main-navigation__link--level-2">
                            <span class="ge-mobile-main-navigation__link--title">Dominikanische Republik</span>
                        </a>
                    </li>
                
                    <li class="ge-mobile-main-navigation__item ge-mobile-main-navigation__item--level-2">
                        <a href="/golfreisen/karibik/jamaika" class="ge-mobile-main-navigation__link ge-mobile-main-navigation__link--level-2">
                            <span class="ge-mobile-main-navigation__link--title">Jamaika</span>
                        </a>
                    </li>
                
                    <li class="ge-mobile-main-navigation__item ge-mobile-main-navigation__item--level-2">
                        <a href="/golfreisen/karibik/puerto-rico" class="ge-mobile-main-navigation__link ge-mobile-main-navigation__link--level-2">
                            <span class="ge-mobile-main-navigation__link--title">Puerto Rico</span>
                        </a>
                    </li>
                
            </ul>
        
    

                
            
                
                    
    
        
            <ul class="ge-mobile-main-navigation__list ge-mobile-main-navigation__list--level-2" id="mobile-submenu-1-8">
                <li class="ge-mobile-main-navigation__item ge-mobile-main-navigation__item--level-2 ge-mobile-main-navigation__item--headline">
                    <span class="ge-mobile-main-navigation__link ge-mobile-main-navigation__link--level-2 ge-mobile-main-navigation__link--headline">
                        <span class="ge-mobile-main-navigation__link--return ge-mobile-main-navigation__link--return--level-2"><i class="las la-arrow-left"></i></span>
                        <span class="ge-mobile-main-navigation__link--title">Nordamerika</span>
                    </span>
                </li>
                
                    <li class="ge-mobile-main-navigation__item ge-mobile-main-navigation__item--level-2 sub ">
                        <a href="/golfreisen/nordamerika/kanada" class="ge-mobile-main-navigation__link ge-mobile-main-navigation__link--level-2">
                            <span class="ge-mobile-main-navigation__link--title">Kanada</span>
                        </a>
                    </li>
                
                    <li class="ge-mobile-main-navigation__item ge-mobile-main-navigation__item--level-2 sub ">
                        <a href="/golfreisen/nordamerika/usa" class="ge-mobile-main-navigation__link ge-mobile-main-navigation__link--level-2">
                            <span class="ge-mobile-main-navigation__link--title">USA</span>
                        </a>
                    </li>
                
            </ul>
        
    

                
            
                
                    
    
        
            <ul class="ge-mobile-main-navigation__list ge-mobile-main-navigation__list--level-2" id="mobile-submenu-1-9">
                <li class="ge-mobile-main-navigation__item ge-mobile-main-navigation__item--level-2 ge-mobile-main-navigation__item--headline">
                    <span class="ge-mobile-main-navigation__link ge-mobile-main-navigation__link--level-2 ge-mobile-main-navigation__link--headline">
                        <span class="ge-mobile-main-navigation__link--return ge-mobile-main-navigation__link--return--level-2"><i class="las la-arrow-left"></i></span>
                        <span class="ge-mobile-main-navigation__link--title">Süd- und Mittelamerika</span>
                    </span>
                </li>
                
                    <li class="ge-mobile-main-navigation__item ge-mobile-main-navigation__item--level-2 sub ">
                        <a href="/golfreisen/sued-und-mittelamerika/argentinien-brasilien-und-uruguay-1" class="ge-mobile-main-navigation__link ge-mobile-main-navigation__link--level-2">
                            <span class="ge-mobile-main-navigation__link--title">Argentinien, Brasilien und Uruguay</span>
                        </a>
                    </li>
                
                    <li class="ge-mobile-main-navigation__item ge-mobile-main-navigation__item--level-2 sub ">
                        <a href="/golfreisen/sued-und-mittelamerika/mexiko" class="ge-mobile-main-navigation__link ge-mobile-main-navigation__link--level-2">
                            <span class="ge-mobile-main-navigation__link--title">Mexiko</span>
                        </a>
                    </li>
                
            </ul>
        
    

                
            
                
                    
    
        
            <ul class="ge-mobile-main-navigation__list ge-mobile-main-navigation__list--level-2" id="mobile-submenu-1-10">
                <li class="ge-mobile-main-navigation__item ge-mobile-main-navigation__item--level-2 ge-mobile-main-navigation__item--headline">
                    <span class="ge-mobile-main-navigation__link ge-mobile-main-navigation__link--level-2 ge-mobile-main-navigation__link--headline">
                        <span class="ge-mobile-main-navigation__link--return ge-mobile-main-navigation__link--return--level-2"><i class="las la-arrow-left"></i></span>
                        <span class="ge-mobile-main-navigation__link--title">Kreuzfahrten</span>
                    </span>
                </li>
                
                    <li class="ge-mobile-main-navigation__item ge-mobile-main-navigation__item--level-2  ">
                        <a href="/golfreisen/kreuzfahrten/golf-cruise" class="ge-mobile-main-navigation__link ge-mobile-main-navigation__link--level-2">
                            <span class="ge-mobile-main-navigation__link--title">Golf &amp; Cruise</span>
                        </a>
                    </li>
                
            </ul>
        
    

                
            
        
    

                            
                        </li>
                    
                        <li class="ge-mobile-main-navigation__item ge-mobile-main-navigation__item--level-0 ge-mobile-main-navigation__item--parent sub">
                            <a href="/gruppenreisen" class="ge-mobile-main-navigation__link ge-mobile-main-navigation__link--level-0 ge-mobile-main-navigation__link--parent">
                                <span class="ge-mobile-main-navigation__link--next ge-mobile-main-navigation__link--next--level-0"><i class="las la-arrow-right"></i></span>
                                <span class="ge-mobile-main-navigation__link--title">Gruppenreisen</span>
                            </a>
                            
                                
    
        
            <ul class="ge-mobile-main-navigation__list ge-mobile-main-navigation__list--level-1">
                <li class="ge-mobile-main-navigation__item ge-mobile-main-navigation__item--level-1 ge-mobile-main-navigation__item--headline">
                    <div class="ge-mobile-main-navigation__link ge-mobile-main-navigation__link--level-1 ge-mobile-main-navigation__link--headline">
                        <span class="ge-mobile-main-navigation__link--return ge-mobile-main-navigation__link--return--level-1"><i class="las la-arrow-left"></i></span>
                        <span class="ge-mobile-main-navigation__link--title">Gruppenreisen</span>
                    </div>
                </li>
                
                    <li class="ge-mobile-main-navigation__item ge-mobile-main-navigation__item--level-1 ge-mobile-main-navigation__item--parent sub ">
                        <a href="/gruppenreisen/november" class="ge-mobile-main-navigation__link ge-mobile-main-navigation__link--level-1 ge-mobile-main-navigation__link--parent">
                            <span class="ge-mobile-main-navigation__link--next ge-mobile-main-navigation__link--next--level-1" data-submenu="#mobile-submenu-2-1"><i class="las la-arrow-right"></i></span>
                            <span class="ge-mobile-main-navigation__link--title">November</span>
                        </a>
                    </li>
                
                    <li class="ge-mobile-main-navigation__item ge-mobile-main-navigation__item--level-1 ge-mobile-main-navigation__item--parent sub">
                        <a href="/gruppenreisen/dezember" class="ge-mobile-main-navigation__link ge-mobile-main-navigation__link--level-1 ge-mobile-main-navigation__link--parent">
                            <span class="ge-mobile-main-navigation__link--next ge-mobile-main-navigation__link--next--level-1" data-submenu="#mobile-submenu-2-2"><i class="las la-arrow-right"></i></span>
                            <span class="ge-mobile-main-navigation__link--title">Dezember</span>
                        </a>
                    </li>
                
                    <li class="ge-mobile-main-navigation__item ge-mobile-main-navigation__item--level-1 ge-mobile-main-navigation__item--parent sub">
                        <a href="/gruppenreisen/januar" class="ge-mobile-main-navigation__link ge-mobile-main-navigation__link--level-1 ge-mobile-main-navigation__link--parent">
                            <span class="ge-mobile-main-navigation__link--next ge-mobile-main-navigation__link--next--level-1" data-submenu="#mobile-submenu-2-3"><i class="las la-arrow-right"></i></span>
                            <span class="ge-mobile-main-navigation__link--title">Januar 2025</span>
                        </a>
                    </li>
                
                    <li class="ge-mobile-main-navigation__item ge-mobile-main-navigation__item--level-1 ge-mobile-main-navigation__item--parent sub">
                        <a href="/gruppenreisen/februar" class="ge-mobile-main-navigation__link ge-mobile-main-navigation__link--level-1 ge-mobile-main-navigation__link--parent">
                            <span class="ge-mobile-main-navigation__link--next ge-mobile-main-navigation__link--next--level-1" data-submenu="#mobile-submenu-2-4"><i class="las la-arrow-right"></i></span>
                            <span class="ge-mobile-main-navigation__link--title">Februar 2025</span>
                        </a>
                    </li>
                
                    <li class="ge-mobile-main-navigation__item ge-mobile-main-navigation__item--level-1 ge-mobile-main-navigation__item--parent sub">
                        <a href="/gruppenreisen/april" class="ge-mobile-main-navigation__link ge-mobile-main-navigation__link--level-1 ge-mobile-main-navigation__link--parent">
                            <span class="ge-mobile-main-navigation__link--next ge-mobile-main-navigation__link--next--level-1" data-submenu="#mobile-submenu-2-5"><i class="las la-arrow-right"></i></span>
                            <span class="ge-mobile-main-navigation__link--title">April 2025</span>
                        </a>
                    </li>
                
                    <li class="ge-mobile-main-navigation__item ge-mobile-main-navigation__item--level-1 ge-mobile-main-navigation__item--parent sub">
                        <a href="/gruppenreisen/mai" class="ge-mobile-main-navigation__link ge-mobile-main-navigation__link--level-1 ge-mobile-main-navigation__link--parent">
                            <span class="ge-mobile-main-navigation__link--next ge-mobile-main-navigation__link--next--level-1" data-submenu="#mobile-submenu-2-6"><i class="las la-arrow-right"></i></span>
                            <span class="ge-mobile-main-navigation__link--title">Mai 2025</span>
                        </a>
                    </li>
                
                    <li class="ge-mobile-main-navigation__item ge-mobile-main-navigation__item--level-1 ge-mobile-main-navigation__item--parent sub">
                        <a href="/gruppenreisen/juli-2025" class="ge-mobile-main-navigation__link ge-mobile-main-navigation__link--level-1 ge-mobile-main-navigation__link--parent">
                            <span class="ge-mobile-main-navigation__link--next ge-mobile-main-navigation__link--next--level-1" data-submenu="#mobile-submenu-2-7"><i class="las la-arrow-right"></i></span>
                            <span class="ge-mobile-main-navigation__link--title">Juli 2025</span>
                        </a>
                    </li>
                
                    <li class="ge-mobile-main-navigation__item ge-mobile-main-navigation__item--level-1 ge-mobile-main-navigation__item--parent sub">
                        <a href="/gruppenreisen/september" class="ge-mobile-main-navigation__link ge-mobile-main-navigation__link--level-1 ge-mobile-main-navigation__link--parent">
                            <span class="ge-mobile-main-navigation__link--next ge-mobile-main-navigation__link--next--level-1" data-submenu="#mobile-submenu-2-8"><i class="las la-arrow-right"></i></span>
                            <span class="ge-mobile-main-navigation__link--title">September 2025</span>
                        </a>
                    </li>
                
                    <li class="ge-mobile-main-navigation__item ge-mobile-main-navigation__item--level-1 ge-mobile-main-navigation__item--parent sub">
                        <a href="/gruppenreisen/oktober-2025" class="ge-mobile-main-navigation__link ge-mobile-main-navigation__link--level-1 ge-mobile-main-navigation__link--parent">
                            <span class="ge-mobile-main-navigation__link--next ge-mobile-main-navigation__link--next--level-1" data-submenu="#mobile-submenu-2-9"><i class="las la-arrow-right"></i></span>
                            <span class="ge-mobile-main-navigation__link--title">Oktober 2025</span>
                        </a>
                    </li>
                
                    <li class="ge-mobile-main-navigation__item ge-mobile-main-navigation__item--level-1 ge-mobile-main-navigation__item--parent sub ">
                        <a href="/gruppenreisen/november-2025" class="ge-mobile-main-navigation__link ge-mobile-main-navigation__link--level-1 ge-mobile-main-navigation__link--parent">
                            <span class="ge-mobile-main-navigation__link--next ge-mobile-main-navigation__link--next--level-1" data-submenu="#mobile-submenu-2-10"><i class="las la-arrow-right"></i></span>
                            <span class="ge-mobile-main-navigation__link--title">November 2025</span>
                        </a>
                    </li>
                
            </ul>
            
                
                    
    
        
            <ul class="ge-mobile-main-navigation__list ge-mobile-main-navigation__list--level-2" id="mobile-submenu-2-1">
                <li class="ge-mobile-main-navigation__item ge-mobile-main-navigation__item--level-2 ge-mobile-main-navigation__item--headline">
                    <span class="ge-mobile-main-navigation__link ge-mobile-main-navigation__link--level-2 ge-mobile-main-navigation__link--headline">
                        <span class="ge-mobile-main-navigation__link--return ge-mobile-main-navigation__link--return--level-2"><i class="las la-arrow-left"></i></span>
                        <span class="ge-mobile-main-navigation__link--title">November</span>
                    </span>
                </li>
                
                    <li class="ge-mobile-main-navigation__item ge-mobile-main-navigation__item--level-2  ">
                        <a href="/gruppenreisen/november/best-of-mexico-los-cabos" class="ge-mobile-main-navigation__link ge-mobile-main-navigation__link--level-2">
                            <span class="ge-mobile-main-navigation__link--title">Best of Mexiko – Los Cabos</span>
                        </a>
                    </li>
                
            </ul>
        
    

                
            
                
                    
    
        
            <ul class="ge-mobile-main-navigation__list ge-mobile-main-navigation__list--level-2" id="mobile-submenu-2-2">
                <li class="ge-mobile-main-navigation__item ge-mobile-main-navigation__item--level-2 ge-mobile-main-navigation__item--headline">
                    <span class="ge-mobile-main-navigation__link ge-mobile-main-navigation__link--level-2 ge-mobile-main-navigation__link--headline">
                        <span class="ge-mobile-main-navigation__link--return ge-mobile-main-navigation__link--return--level-2"><i class="las la-arrow-left"></i></span>
                        <span class="ge-mobile-main-navigation__link--title">Dezember</span>
                    </span>
                </li>
                
                    <li class="ge-mobile-main-navigation__item ge-mobile-main-navigation__item--level-2">
                        <a href="/gruppenreisen/silvester-single-reise" class="ge-mobile-main-navigation__link ge-mobile-main-navigation__link--level-2">
                            <span class="ge-mobile-main-navigation__link--title">Silvester Single Reise Portugal</span>
                        </a>
                    </li>
                
                    <li class="ge-mobile-main-navigation__item ge-mobile-main-navigation__item--level-2">
                        <a href="/gruppenreisen/silvester-golfreise-in-belek" class="ge-mobile-main-navigation__link ge-mobile-main-navigation__link--level-2">
                            <span class="ge-mobile-main-navigation__link--title">Silvester in Belek</span>
                        </a>
                    </li>
                
            </ul>
        
    

                
            
                
                    
    
        
            <ul class="ge-mobile-main-navigation__list ge-mobile-main-navigation__list--level-2" id="mobile-submenu-2-3">
                <li class="ge-mobile-main-navigation__item ge-mobile-main-navigation__item--level-2 ge-mobile-main-navigation__item--headline">
                    <span class="ge-mobile-main-navigation__link ge-mobile-main-navigation__link--level-2 ge-mobile-main-navigation__link--headline">
                        <span class="ge-mobile-main-navigation__link--return ge-mobile-main-navigation__link--return--level-2"><i class="las la-arrow-left"></i></span>
                        <span class="ge-mobile-main-navigation__link--title">Januar 2025</span>
                    </span>
                </li>
                
                    <li class="ge-mobile-main-navigation__item ge-mobile-main-navigation__item--level-2  ">
                        <a href="/gruppenreisen/januar/golf-kultur-in-suedafrika" class="ge-mobile-main-navigation__link ge-mobile-main-navigation__link--level-2">
                            <span class="ge-mobile-main-navigation__link--title">Golf &amp; Kultur in Südafrika</span>
                        </a>
                    </li>
                
            </ul>
        
    

                
            
                
                    
    
        
            <ul class="ge-mobile-main-navigation__list ge-mobile-main-navigation__list--level-2" id="mobile-submenu-2-4">
                <li class="ge-mobile-main-navigation__item ge-mobile-main-navigation__item--level-2 ge-mobile-main-navigation__item--headline">
                    <span class="ge-mobile-main-navigation__link ge-mobile-main-navigation__link--level-2 ge-mobile-main-navigation__link--headline">
                        <span class="ge-mobile-main-navigation__link--return ge-mobile-main-navigation__link--return--level-2"><i class="las la-arrow-left"></i></span>
                        <span class="ge-mobile-main-navigation__link--title">Februar 2025</span>
                    </span>
                </li>
                
                    <li class="ge-mobile-main-navigation__item ge-mobile-main-navigation__item--level-2">
                        <a href="/gruppenreisen/golf-cruise-karibik-silver-moon" class="ge-mobile-main-navigation__link ge-mobile-main-navigation__link--level-2">
                            <span class="ge-mobile-main-navigation__link--title">Golf &amp; Cruise Karibik – Silver Moon</span>
                        </a>
                    </li>
                
                    <li class="ge-mobile-main-navigation__item ge-mobile-main-navigation__item--level-2">
                        <a href="/gruppenreisen/belek-golf-trophy" class="ge-mobile-main-navigation__link ge-mobile-main-navigation__link--level-2">
                            <span class="ge-mobile-main-navigation__link--title">Belek Golf Trophy</span>
                        </a>
                    </li>
                
                    <li class="ge-mobile-main-navigation__item ge-mobile-main-navigation__item--level-2">
                        <a href="/gruppenreisen/fruehjahrsgolfen-auf-mallorca" class="ge-mobile-main-navigation__link ge-mobile-main-navigation__link--level-2">
                            <span class="ge-mobile-main-navigation__link--title">Frühjahrsgolfen auf Mallorca</span>
                        </a>
                    </li>
                
            </ul>
        
    

                
            
                
                    
    
        
            <ul class="ge-mobile-main-navigation__list ge-mobile-main-navigation__list--level-2" id="mobile-submenu-2-5">
                <li class="ge-mobile-main-navigation__item ge-mobile-main-navigation__item--level-2 ge-mobile-main-navigation__item--headline">
                    <span class="ge-mobile-main-navigation__link ge-mobile-main-navigation__link--level-2 ge-mobile-main-navigation__link--headline">
                        <span class="ge-mobile-main-navigation__link--return ge-mobile-main-navigation__link--return--level-2"><i class="las la-arrow-left"></i></span>
                        <span class="ge-mobile-main-navigation__link--title">April 2025</span>
                    </span>
                </li>
                
                    <li class="ge-mobile-main-navigation__item ge-mobile-main-navigation__item--level-2  ">
                        <a href="/gruppenreisen/costa-del-sol-golfwoche" class="ge-mobile-main-navigation__link ge-mobile-main-navigation__link--level-2">
                            <span class="ge-mobile-main-navigation__link--title">Costa del Sol Golfwoche</span>
                        </a>
                    </li>
                
            </ul>
        
    

                
            
                
                    
    
        
            <ul class="ge-mobile-main-navigation__list ge-mobile-main-navigation__list--level-2" id="mobile-submenu-2-6">
                <li class="ge-mobile-main-navigation__item ge-mobile-main-navigation__item--level-2 ge-mobile-main-navigation__item--headline">
                    <span class="ge-mobile-main-navigation__link ge-mobile-main-navigation__link--level-2 ge-mobile-main-navigation__link--headline">
                        <span class="ge-mobile-main-navigation__link--return ge-mobile-main-navigation__link--return--level-2"><i class="las la-arrow-left"></i></span>
                        <span class="ge-mobile-main-navigation__link--title">Mai 2025</span>
                    </span>
                </li>
                
                    <li class="ge-mobile-main-navigation__item ge-mobile-main-navigation__item--level-2  ">
                        <a href="/gruppenreisen/thracian-cliffs-golfwoche" class="ge-mobile-main-navigation__link ge-mobile-main-navigation__link--level-2">
                            <span class="ge-mobile-main-navigation__link--title">Thracian Cliffs Golfwoche</span>
                        </a>
                    </li>
                
            </ul>
        
    

                
            
                
                    
    
        
            <ul class="ge-mobile-main-navigation__list ge-mobile-main-navigation__list--level-2" id="mobile-submenu-2-7">
                <li class="ge-mobile-main-navigation__item ge-mobile-main-navigation__item--level-2 ge-mobile-main-navigation__item--headline">
                    <span class="ge-mobile-main-navigation__link ge-mobile-main-navigation__link--level-2 ge-mobile-main-navigation__link--headline">
                        <span class="ge-mobile-main-navigation__link--return ge-mobile-main-navigation__link--return--level-2"><i class="las la-arrow-left"></i></span>
                        <span class="ge-mobile-main-navigation__link--title">Juli 2025</span>
                    </span>
                </li>
                
                    <li class="ge-mobile-main-navigation__item ge-mobile-main-navigation__item--level-2">
                        <a href="/gruppenreisen/schottland-zum-ursprung-des-golfsports" class="ge-mobile-main-navigation__link ge-mobile-main-navigation__link--level-2">
                            <span class="ge-mobile-main-navigation__link--title">Schottland | Zum Ursprung des Golfsports</span>
                        </a>
                    </li>
                
                    <li class="ge-mobile-main-navigation__item ge-mobile-main-navigation__item--level-2">
                        <a href="/gruppenreisen/faszination-finnland" class="ge-mobile-main-navigation__link ge-mobile-main-navigation__link--level-2">
                            <span class="ge-mobile-main-navigation__link--title">Faszination Finnland</span>
                        </a>
                    </li>
                
            </ul>
        
    

                
            
                
                    
    
        
            <ul class="ge-mobile-main-navigation__list ge-mobile-main-navigation__list--level-2" id="mobile-submenu-2-8">
                <li class="ge-mobile-main-navigation__item ge-mobile-main-navigation__item--level-2 ge-mobile-main-navigation__item--headline">
                    <span class="ge-mobile-main-navigation__link ge-mobile-main-navigation__link--level-2 ge-mobile-main-navigation__link--headline">
                        <span class="ge-mobile-main-navigation__link--return ge-mobile-main-navigation__link--return--level-2"><i class="las la-arrow-left"></i></span>
                        <span class="ge-mobile-main-navigation__link--title">September 2025</span>
                    </span>
                </li>
                
                    <li class="ge-mobile-main-navigation__item ge-mobile-main-navigation__item--level-2">
                        <a href="/gruppenreisen/golfcruise-mittelmeer-emerald-sakara" class="ge-mobile-main-navigation__link ge-mobile-main-navigation__link--level-2">
                            <span class="ge-mobile-main-navigation__link--title">Golf &amp; Cruise Mittelmeer – Emerald Sakara</span>
                        </a>
                    </li>
                
                    <li class="ge-mobile-main-navigation__item ge-mobile-main-navigation__item--level-2">
                        <a href="/gruppenreisen/irland-golfwoche" class="ge-mobile-main-navigation__link ge-mobile-main-navigation__link--level-2">
                            <span class="ge-mobile-main-navigation__link--title">Irland Golfwoche</span>
                        </a>
                    </li>
                
            </ul>
        
    

                
            
                
                    
    
        
            <ul class="ge-mobile-main-navigation__list ge-mobile-main-navigation__list--level-2" id="mobile-submenu-2-9">
                <li class="ge-mobile-main-navigation__item ge-mobile-main-navigation__item--level-2 ge-mobile-main-navigation__item--headline">
                    <span class="ge-mobile-main-navigation__link ge-mobile-main-navigation__link--level-2 ge-mobile-main-navigation__link--headline">
                        <span class="ge-mobile-main-navigation__link--return ge-mobile-main-navigation__link--return--level-2"><i class="las la-arrow-left"></i></span>
                        <span class="ge-mobile-main-navigation__link--title">Oktober 2025</span>
                    </span>
                </li>
                
                    <li class="ge-mobile-main-navigation__item ge-mobile-main-navigation__item--level-2  ">
                        <a href="/gruppenreisen/oktober/golf-cruise-rhein-amadeus-star" class="ge-mobile-main-navigation__link ge-mobile-main-navigation__link--level-2">
                            <span class="ge-mobile-main-navigation__link--title">Golf &amp; Cruise Rhein – Amadeus Star</span>
                        </a>
                    </li>
                
            </ul>
        
    

                
            
                
                    
    
        
            <ul class="ge-mobile-main-navigation__list ge-mobile-main-navigation__list--level-2" id="mobile-submenu-2-10">
                <li class="ge-mobile-main-navigation__item ge-mobile-main-navigation__item--level-2 ge-mobile-main-navigation__item--headline">
                    <span class="ge-mobile-main-navigation__link ge-mobile-main-navigation__link--level-2 ge-mobile-main-navigation__link--headline">
                        <span class="ge-mobile-main-navigation__link--return ge-mobile-main-navigation__link--return--level-2"><i class="las la-arrow-left"></i></span>
                        <span class="ge-mobile-main-navigation__link--title">November 2025</span>
                    </span>
                </li>
                
                    <li class="ge-mobile-main-navigation__item ge-mobile-main-navigation__item--level-2  ">
                        <a href="/gruppenreisen/golfcruise-iberische-inseln" class="ge-mobile-main-navigation__link ge-mobile-main-navigation__link--level-2">
                            <span class="ge-mobile-main-navigation__link--title">Golf &amp; Cruise Iberische Inseln – Silver Dawn</span>
                        </a>
                    </li>
                
            </ul>
        
    

                
            
        
    

                            
                        </li>
                    
                        <li class="ge-mobile-main-navigation__item ge-mobile-main-navigation__item--level-0 ge-mobile-main-navigation__item--parent sub">
                            <a href="/turnierbesuche" class="ge-mobile-main-navigation__link ge-mobile-main-navigation__link--level-0 ge-mobile-main-navigation__link--parent">
                                <span class="ge-mobile-main-navigation__link--next ge-mobile-main-navigation__link--next--level-0"><i class="las la-arrow-right"></i></span>
                                <span class="ge-mobile-main-navigation__link--title">Turnierbesuche</span>
                            </a>
                            
                                
    
        
            <ul class="ge-mobile-main-navigation__list ge-mobile-main-navigation__list--level-1">
                <li class="ge-mobile-main-navigation__item ge-mobile-main-navigation__item--level-1 ge-mobile-main-navigation__item--headline">
                    <div class="ge-mobile-main-navigation__link ge-mobile-main-navigation__link--level-1 ge-mobile-main-navigation__link--headline">
                        <span class="ge-mobile-main-navigation__link--return ge-mobile-main-navigation__link--return--level-1"><i class="las la-arrow-left"></i></span>
                        <span class="ge-mobile-main-navigation__link--title">Turnierbesuche</span>
                    </div>
                </li>
                
                    <li class="ge-mobile-main-navigation__item ge-mobile-main-navigation__item--level-1">
                        <a href="/turnierbesuche/ryder-cup-2025" class="ge-mobile-main-navigation__link ge-mobile-main-navigation__link--level-1">
                            
                            <span class="ge-mobile-main-navigation__link--title">Ryder Cup 2025</span>
                        </a>
                    </li>
                
                    <li class="ge-mobile-main-navigation__item ge-mobile-main-navigation__item--level-1">
                        <a href="/turnierbesuche/ryder-cup-2027" class="ge-mobile-main-navigation__link ge-mobile-main-navigation__link--level-1">
                            
                            <span class="ge-mobile-main-navigation__link--title">Ryder Cup 2027</span>
                        </a>
                    </li>
                
            </ul>
            
                
            
                
            
        
    

                            
                        </li>
                    
                        <li class="ge-mobile-main-navigation__item ge-mobile-main-navigation__item--level-0">
                            <a href="/inspiration" class="ge-mobile-main-navigation__link ge-mobile-main-navigation__link--level-0">
                                
                                <span class="ge-mobile-main-navigation__link--title">Inspiration</span>
                            </a>
                            
                        </li>
                    
                        <li class="ge-mobile-main-navigation__item ge-mobile-main-navigation__item--level-0">
                            <a href="/pga-professionals" class="ge-mobile-main-navigation__link ge-mobile-main-navigation__link--level-0">
                                
                                <span class="ge-mobile-main-navigation__link--title">PGA-Professionals</span>
                            </a>
                            
                        </li>
                    
                        <li class="ge-mobile-main-navigation__item ge-mobile-main-navigation__item--level-0 ge-mobile-main-navigation__item--parent sub ">
                            <a href="/ueber-uns" class="ge-mobile-main-navigation__link ge-mobile-main-navigation__link--level-0 ge-mobile-main-navigation__link--parent">
                                <span class="ge-mobile-main-navigation__link--next ge-mobile-main-navigation__link--next--level-0"><i class="las la-arrow-right"></i></span>
                                <span class="ge-mobile-main-navigation__link--title">Über uns</span>
                            </a>
                            
                                
    
        
            <ul class="ge-mobile-main-navigation__list ge-mobile-main-navigation__list--level-1">
                <li class="ge-mobile-main-navigation__item ge-mobile-main-navigation__item--level-1 ge-mobile-main-navigation__item--headline">
                    <div class="ge-mobile-main-navigation__link ge-mobile-main-navigation__link--level-1 ge-mobile-main-navigation__link--headline">
                        <span class="ge-mobile-main-navigation__link--return ge-mobile-main-navigation__link--return--level-1"><i class="las la-arrow-left"></i></span>
                        <span class="ge-mobile-main-navigation__link--title">Über uns</span>
                    </div>
                </li>
                
                    <li class="ge-mobile-main-navigation__item ge-mobile-main-navigation__item--level-1">
                        <a href="/ueber-uns/unser-team" class="ge-mobile-main-navigation__link ge-mobile-main-navigation__link--level-1">
                            
                            <span class="ge-mobile-main-navigation__link--title">Team</span>
                        </a>
                    </li>
                
                    <li class="ge-mobile-main-navigation__item ge-mobile-main-navigation__item--level-1 ge-mobile-main-navigation__item--parent sub">
                        <a href="/ueber-uns/karriere" class="ge-mobile-main-navigation__link ge-mobile-main-navigation__link--level-1 ge-mobile-main-navigation__link--parent">
                            <span class="ge-mobile-main-navigation__link--next ge-mobile-main-navigation__link--next--level-1" data-submenu="#mobile-submenu-6-2"><i class="las la-arrow-right"></i></span>
                            <span class="ge-mobile-main-navigation__link--title">Karriere</span>
                        </a>
                    </li>
                
                    <li class="ge-mobile-main-navigation__item ge-mobile-main-navigation__item--level-1">
                        <a href="/ueber-uns/unsere-partner" class="ge-mobile-main-navigation__link ge-mobile-main-navigation__link--level-1">
                            
                            <span class="ge-mobile-main-navigation__link--title">Partnerschaften</span>
                        </a>
                    </li>
                
                    <li class="ge-mobile-main-navigation__item ge-mobile-main-navigation__item--level-1">
                        <a href="/ueber-uns/pressebereich" class="ge-mobile-main-navigation__link ge-mobile-main-navigation__link--level-1">
                            
                            <span class="ge-mobile-main-navigation__link--title">Presse</span>
                        </a>
                    </li>
                
                    <li class="ge-mobile-main-navigation__item ge-mobile-main-navigation__item--level-1 ge-mobile-main-navigation__item--parent sub ">
                        <a href="/ueber-uns/rechtliches" class="ge-mobile-main-navigation__link ge-mobile-main-navigation__link--level-1 ge-mobile-main-navigation__link--parent">
                            <span class="ge-mobile-main-navigation__link--next ge-mobile-main-navigation__link--next--level-1" data-submenu="#mobile-submenu-6-5"><i class="las la-arrow-right"></i></span>
                            <span class="ge-mobile-main-navigation__link--title">Rechtliches</span>
                        </a>
                    </li>
                
            </ul>
            
                
            
                
                    
    
        
            <ul class="ge-mobile-main-navigation__list ge-mobile-main-navigation__list--level-2" id="mobile-submenu-6-2">
                <li class="ge-mobile-main-navigation__item ge-mobile-main-navigation__item--level-2 ge-mobile-main-navigation__item--headline">
                    <span class="ge-mobile-main-navigation__link ge-mobile-main-navigation__link--level-2 ge-mobile-main-navigation__link--headline">
                        <span class="ge-mobile-main-navigation__link--return ge-mobile-main-navigation__link--return--level-2"><i class="las la-arrow-left"></i></span>
                        <span class="ge-mobile-main-navigation__link--title">Karriere</span>
                    </span>
                </li>
                
                    <li class="ge-mobile-main-navigation__item ge-mobile-main-navigation__item--level-2">
                        <a href="/ueber-uns/karriere/warum-emu" class="ge-mobile-main-navigation__link ge-mobile-main-navigation__link--level-2">
                            <span class="ge-mobile-main-navigation__link--title">Warum EMU?</span>
                        </a>
                    </li>
                
                    <li class="ge-mobile-main-navigation__item ge-mobile-main-navigation__item--level-2">
                        <a href="/ueber-uns/karriere/praktikant-marketing" class="ge-mobile-main-navigation__link ge-mobile-main-navigation__link--level-2">
                            <span class="ge-mobile-main-navigation__link--title">Praktikant Marketing</span>
                        </a>
                    </li>
                
                    <li class="ge-mobile-main-navigation__item ge-mobile-main-navigation__item--level-2">
                        <a href="/ueber-uns/karriere/tourismuskauffrau/-tourismuskaufmann" class="ge-mobile-main-navigation__link ge-mobile-main-navigation__link--level-2">
                            <span class="ge-mobile-main-navigation__link--title">Tourismuskauffrau/ Tourismuskaufmann</span>
                        </a>
                    </li>
                
                    <li class="ge-mobile-main-navigation__item ge-mobile-main-navigation__item--level-2">
                        <a href="/ueber-uns/karriere/studium" class="ge-mobile-main-navigation__link ge-mobile-main-navigation__link--level-2">
                            <span class="ge-mobile-main-navigation__link--title">Studium</span>
                        </a>
                    </li>
                
            </ul>
        
    

                
            
                
            
                
            
                
                    
    
        
            <ul class="ge-mobile-main-navigation__list ge-mobile-main-navigation__list--level-2" id="mobile-submenu-6-5">
                <li class="ge-mobile-main-navigation__item ge-mobile-main-navigation__item--level-2 ge-mobile-main-navigation__item--headline">
                    <span class="ge-mobile-main-navigation__link ge-mobile-main-navigation__link--level-2 ge-mobile-main-navigation__link--headline">
                        <span class="ge-mobile-main-navigation__link--return ge-mobile-main-navigation__link--return--level-2"><i class="las la-arrow-left"></i></span>
                        <span class="ge-mobile-main-navigation__link--title">Rechtliches</span>
                    </span>
                </li>
                
                    <li class="ge-mobile-main-navigation__item ge-mobile-main-navigation__item--level-2">
                        <a href="/ueber-uns/rechtliches/reisebedingungen" class="ge-mobile-main-navigation__link ge-mobile-main-navigation__link--level-2">
                            <span class="ge-mobile-main-navigation__link--title">Reisebedingungen</span>
                        </a>
                    </li>
                
                    <li class="ge-mobile-main-navigation__item ge-mobile-main-navigation__item--level-2">
                        <a href="/ueber-uns/rechtliches/datenschutz" class="ge-mobile-main-navigation__link ge-mobile-main-navigation__link--level-2">
                            <span class="ge-mobile-main-navigation__link--title">Datenschutz</span>
                        </a>
                    </li>
                
                    <li class="ge-mobile-main-navigation__item ge-mobile-main-navigation__item--level-2">
                        <a href="/ueber-uns/rechtliches/impressum" class="ge-mobile-main-navigation__link ge-mobile-main-navigation__link--level-2">
                            <span class="ge-mobile-main-navigation__link--title">Impressum</span>
                        </a>
                    </li>
                
                    <li class="ge-mobile-main-navigation__item ge-mobile-main-navigation__item--level-2">
                        <a href="/ueber-uns/rechtliches/airline-blacklist" class="ge-mobile-main-navigation__link ge-mobile-main-navigation__link--level-2">
                            <span class="ge-mobile-main-navigation__link--title">Airline Blacklist</span>
                        </a>
                    </li>
                
            </ul>
        
    

                
            
        
    

                            
                        </li>
                    
                    
    
        <li class="ge-mobile-main-navigation__item ge-mobile-main-navigation__item--level-0 ge-mobile-main-navigation__item--contact">
            <div class="ge-mobile-main-navigation__link ge-mobile-main-navigation__link--level-0 ge-mobile-main-navigation__link--parent ge-mobile-main-navigation__link--contact">
                <span class="ge-mobile-main-navigation__link--next ge-mobile-main-navigation__link--next--level-0"><i class="las la-arrow-right"></i></span>
                <span class="ge-mobile-main-navigation__link--title">Kontakt</span>
            </div>
            <div class="ge-mobile-main-navigation__list ge-mobile-main-navigation__list--level-1 ge-mobile-main-navigation__list--contact" >
                <div class="ge-mobile-main-navigation__item ge-mobile-main-navigation__item--level-1 ge-mobile-main-navigation__item--headline">
                    <div class="ge-mobile-main-navigation__link ge-mobile-main-navigation__link--level-1 ge-mobile-main-navigation__link--headline">
                        <span class="ge-mobile-main-navigation__link--return ge-mobile-main-navigation__link--return--level-1"><i class="las la-arrow-left"></i></span>
                        <span class="ge-mobile-main-navigation__link--title">Kontakt</span>
                    </div>
                </div>
                <div class="ge-mobile-main-navigation__contact-container">
                    
                        <div class="ge-mobile-main-navigation__contact-tel ge-mobile-main-navigation__contact--content-row">
                            <i class="las la-phone"></i><div><p><a href="tel:+49713127765400">+49 (0) 7131/27765-400</a></p></div>
                        </div>
                    
                    
                        <div class="ge-mobile-main-navigation__contact-mail ge-mobile-main-navigation__contact--content-row">
                            <i class="las la-envelope"></i><div><p><a href="mailto:anfrage@golf-extra.com">anfrage@golf-extra.com</a></p></div>
                        </div>
                    
                    
                        <div class="ge-mobile-main-navigation__contact-address ge-mobile-main-navigation__contact--content-row">
                            <i class="las la-map-marked-alt"></i><div><p>Allee 18<br> 74072 Heilbronn</p>
<p><a href="https://goo.gl/maps/whBkHrMT6x3B1GzA9" target="_blank" class="link-arrow" rel="noreferrer">Route bei Google Maps&nbsp;berechnen</a></p></div>
                        </div>
                    
                    
                        <div class="ge-mobile-main-navigation__contact-opening-hours ge-mobile-main-navigation__contact--content-row">
                            <i class="las la-clock"></i><div><p>Mo - Fr:&nbsp;<br> 09:00 bis 18:00 Uhr</p></div>
                        </div>
                    
                    
                        <ul class="ge-mobile-main-navigation__contact-link-list">
                            
                                
                                    <li class="ge-mobile-main-navigation__contact-link-list--item">
                                        <a href="/telefontermin-vereinbaren" class="ge-mobile-main-navigation__contact-link-list--link"><span>Telefontermin vereinbaren</span><i class="las la-angle-right"></i></a>
                                    </li>
                                
                            
                                
                                    <li class="ge-mobile-main-navigation__contact-link-list--item">
                                        <a href="/kontakt" class="ge-mobile-main-navigation__contact-link-list--link"><span>Kontaktformular</span><i class="las la-angle-right"></i></a>
                                    </li>
                                
                            
                                
                                    <li class="ge-mobile-main-navigation__contact-link-list--item">
                                        <a href="/#c27" class="ge-mobile-main-navigation__contact-link-list--link"><span>Zum Newsletter anmelden</span><i class="las la-angle-right"></i></a>
                                    </li>
                                
                            
                        </ul>
                    
                    <div class="ge-mobile-main-navigation__button">
                        
                            <a href="/anfrage-golfreise" class="btn btn-outline-secondary">Angebot anfragen</a>
                        
                    </div>
                </div>
            </div>
        </li>
    

                    
    
        <li class="ge-mobile-main-navigation__item ge-mobile-main-navigation__item--level-0 ge-mobile-main-navigation__item--meta-navigation">
            <ul class="ge-mobile-main-navigation__meta-links--list">
                
                    
                        <li class="ge-mobile-main-navigation__meta-links--item">
                            <a href="/kontakt" class="ge-mobile-main-navigation__meta-links--link"><i class="las la-angle-right"></i><span>Anfrage</span></a>
                        </li>
                    
                
                    
                        <li class="ge-mobile-main-navigation__meta-links--item">
                            <i class="las la-angle-right"></i><span>Ryder Cup 2023</span>
                        </li>
                    
                
                    
                        <li class="ge-mobile-main-navigation__meta-links--item">
                            <a href="/merkliste" class="ge-mobile-main-navigation__meta-links--link"><i class="las la-angle-right"></i><span>Merkliste</span></a>
                        </li>
                    
                
            </ul>
        </li>
    

                </ul>
            </nav>
        
    

    </header>






    

    
    <main class="main-content hotel-page">
        

    
            <section id="c1070" class="container-fluid list">
                
                
                    

    



                
                

    
        
    


            </section>
        


    </main>


    
        

    
    <footer id="c27" class="ge-footer mask_footer">
        <div class="ge-footer__mainfooter-container">
            <div class="container">
                <div class="row">
                    <div class="col-lg-3">
                        <div class="ge-footer__column ge-footer__column--logo">
                            
                                
                                    <img class="ge-footer__logo-image ge-footer__logo-image1" src="/fileadmin/user_upload/golf-extra-logo.svg" width="212" height="212" alt="" />
                                    
                                        <div class="ge-footer__logo-text">
                                            <p>eine Marke der&nbsp;<br> EMU exclusive travel GmbH</p>
                                        </div>
                                    
                                
                            
                        </div>
                    </div>
                    <div class="col-lg-3">
                        <div class="ge-footer__column ge-footer__column--address">
                            <div class="ge-footer__headline">Kontakt</div>
                            
                                <div class="ge-footer__content-row ge-footer__content-row--address">
                                    <i class="las la-map-marked-alt"></i>
                                    <div><p>Allee 18<br> 74072 Heilbronn - Deutschland</p>
<p><a href="https://www.google.de/maps/" target="_blank" rel="noreferrer">Route bei Google Maps berechnen</a></p></div>
                                </div>
                            
                            
                                <div class="ge-footer__content-row ge-footer__content-row--telephone">
                                    <i class="las la-phone"></i>
                                    <div>
                                        <p>Deutschland:&nbsp;<br> <a href="tel:490713127765400">+49 (0)7131 . 277 654 . 00</a></p>
<p><br> Schweiz:&nbsp;<br> <a href="tel:410444190383">+41 (0)44 . 41 903 . 83</a></p>
                                    </div>
                                </div>
                            
                            
                                <div class="ge-footer__content-row ge-footer__content-row--email">
                                    <i class="las la-envelope"></i>
                                    <div>
                                        <p><a href="mailto:anfrage@golf-extra.com">anfrage@golf-extra.com</a></p>
                                    </div>
                                </div>
                            
                            
                                <div class="ge-footer__content-row ge-footer__content-row--opening-hours">
                                    <i class="las la-clock"></i>
                                    <div>
                                        <p>Montag - Freitag von 09:00 Uhr - 18:00 Uhr</p>
                                    </div>
                                </div>
                            
                        </div>
                    </div>
                    <div class="col-lg-3">
                        <div class="ge-footer__column ge-footer__column--link-list">
                            <div class="ge-footer__headline">Navigation</div>
                            
                                <ul class="ge-footer__link-list">
                                    
                                        <li class="ge-footer__link-list--item">
                                            
                                                <a href="/kontakt" class="ge-footer__link-list--link"><i class="las la-angle-right"></i><span>Kontakt</span></a>
                                            
                                        </li>
                                    
                                        <li class="ge-footer__link-list--item">
                                            
                                                <a href="/ueber-uns/karriere" class="ge-footer__link-list--link"><i class="las la-angle-right"></i><span>Karriere</span></a>
                                            
                                        </li>
                                    
                                        <li class="ge-footer__link-list--item">
                                            
                                        </li>
                                    
                                </ul>
                            
                        </div>
                    </div>
                    <div class="col-lg-3">
                        <div class="ge-footer__column ge-footer__column--newsletter">
                            <div class="ge-footer__headline">Newsletter</div>
                            
                                <div class="ge-footer__newsletter--description">
                                    <p>Abonnieren Sie unseren Newsletter mit regelmäßigen Informationen und Tipps für Ihre nächste Golfreise.</p>
                                </div>
                            
                            

        <form enctype="multipart/form-data" method="post" id="newsletter" action="/hotel?tx_form_formframework%5Baction%5D=perform&amp;tx_form_formframework%5Bcontroller%5D=FormFrontend&amp;cHash=d2eb15c79472069633696b577a4c2ed2#newsletter">
<div><input type="hidden" name="tx_form_formframework[newsletter][__state]" value="TzozOToiVFlQTzNcQ01TXEZvcm1cRG9tYWluXFJ1bnRpbWVcRm9ybVN0YXRlIjoyOntzOjI1OiIAKgBsYXN0RGlzcGxheWVkUGFnZUluZGV4IjtpOjA7czoxMzoiACoAZm9ybVZhbHVlcyI7YTowOnt9fQ==7c1bc3caf950b6cbb189357c348bab81b4413868" /><input type="hidden" name="tx_form_formframework[__trustedProperties]" value="{&quot;newsletter&quot;:{&quot;category&quot;:1,&quot;PsmZNIQiFe8&quot;:1,&quot;category2&quot;:1,&quot;category3&quot;:1,&quot;email&quot;:1,&quot;__currentPage&quot;:1}}81386cd7de5b6bf02a6e3d78f768053444c48d40" />
</div>

            

    
    
        

    <input id="newsletter-category" type="hidden" name="tx_form_formframework[newsletter][category]" value="Ich möchte regelmäßig über Golfreise-Angebote &amp; Reisetipps von golf.extra informiert werden." />



    
        

        <input autocomplete="PsmZNIQiFe8" aria-hidden="true" id="newsletter-PsmZNIQiFe8" style="position:absolute; margin:0 0 0 -999em;" tabindex="-1" type="text" name="tx_form_formframework[newsletter][PsmZNIQiFe8]" />
    


    
        

    <input id="newsletter-category2" type="hidden" name="tx_form_formframework[newsletter][category2]" value="Ich möchte regelmäßig über Golfreise-Angebote &amp; Reisetipps von golf.extra informiert werden." />



    
        

    <input id="newsletter-category3" type="hidden" name="tx_form_formframework[newsletter][category3]" value="Ich möchte regelmäßig über Golfreise-Angebote &amp; Reisetipps von golf.extra informiert werden." />



    
        

    

    <div class="form-group">
        
            <label class="form-label" for="newsletter-email"><span>E-Mail-Adresse</span>
<span class="required">*</span>

</label>
        
        <div class="input">
            
            
                
        <input placeholder="E-Mail-Adresse" required="required" class=" form-control" id="newsletter-email" type="text" name="tx_form_formframework[newsletter][email]" value="" />
    
                
            
            
        </div>
    </div>






    



            <div class="actions">
                
<nav class="form-navigation">
    <div class="btn-toolbar" role="toolbar">
        <div class="btn-group" role="group">
            
            
                    <span class="btn-group next submit">
                        <button class="btn btn-primary" type="submit" name="tx_form_formframework[newsletter][__currentPage]" value="1">
                            
                        </button>
                    </span>
                
        </div>
    </div>
</nav>


            </div>
        </form>



                            <!-- form action="" class="ge-footer__newsletter--form">
                                <div class="ge-footer__newsletter--input-field-wrapper">
                                    <input type="email" class="form-control ge-footer__newsletter--input-field" placeholder="E-Mail-Adresse">
                                    <button type="submit" class="ge-footer__newsletter--submit-button"><i class="lab la-telegram-plane"></i></button>
                                </div>
                            </form -->
                            
                                
                                    

    
            <section id="c2164" class="container list">
                
                
                    

    



                
                

    


            </section>
        


                                
                            
                        </div>
                        <div class="ge-footer__column ge-footer__column--social-media">
                            <div class="ge-footer__headline">Social Media</div>
                            
                                <ul class="ge-footer__social-media--list">
                                    
                                        <li class="ge-footer__social-media--item">
                                            
                                                <a href="https://www.facebook.com/golf.extra/" target="_blank" class="ge-footer__social-media--link" rel="noreferrer"><i class="lab la-facebook-f"></i></a>
                                            
                                        </li>
                                    
                                        <li class="ge-footer__social-media--item">
                                            
                                                <a href="https://www.instagram.com/golf.extra/" target="_blank" class="ge-footer__social-media--link" rel="noreferrer"><i class="lab la-instagram"></i></a>
                                            
                                        </li>
                                    
                                        <li class="ge-footer__social-media--item">
                                            
                                                <a href="https://www.linkedin.com/company/emu-exclusive-travel-gmbh" target="_blank" class="ge-footer__social-media--link" rel="noreferrer"><i class="lab la-linkedin"></i></a>
                                            
                                        </li>
                                    
                                </ul>
                            
                        </div>

                    </div>
                </div>
            </div>
        </div>
        <div class="ge-footer__subfooter-container">
            <div class="container">
                <div class="row">
                    <div class="col-12">
                        <div class="ge-footer__subfooter--content">
                            
                                <div class="ge-footer__subfooter--copyright-text">
                                    Ⓒ 2024 EMU exclusive travel GmbH
                                </div>
                            
                            
                                <ul class="ge-footer__subfooter--links">
                                    
                                        <li class="ge-footer__subfooter--link-item">
                                            
                                                <a href="/ueber-uns/rechtliches/datenschutz" class="ge-footer__subfooter--link">Datenschutz</a>
                                            
                                        </li>
                                    
                                        <li class="ge-footer__subfooter--link-item">
                                            
                                                <a href="/ueber-uns/rechtliches/impressum" class="ge-footer__subfooter--link">Impressum</a>
                                            
                                        </li>
                                    
                                        <li class="ge-footer__subfooter--link-item">
                                            
                                                <a href="/ueber-uns/rechtliches/reisebedingungen" class="ge-footer__subfooter--link">AGB&#039;s</a>
                                            
                                        </li>
                                    
                                </ul>
                            
                        </div>
                    </div>
                </div>
            </div>
        </div>
        
            <div class="ge-footer__quick-contact">
                <ul class="ge-quick-contact__list">
                    
                        <li class="ge-quick-contact__item ge-quick-contact__item--action">
                            
                                <a href="/kontakt" class="ge-quick-contact__link ge-quick-contact__link--action" data-tooltip="Kontaktformular"><i class="las la-feather-alt"></i></a>
                            
                        </li>
                    
                        <li class="ge-quick-contact__item ge-quick-contact__item--action">
                            
                                <a href="/telefontermin-vereinbaren" class="ge-quick-contact__link ge-quick-contact__link--action" data-tooltip="Telefontermin vereinbaren"><i class="las la-phone-volume"></i></a>
                            
                        </li>
                    
                        <li class="ge-quick-contact__item ge-quick-contact__item--action">
                            
                                <a href="tel:+49713127765400" class="ge-quick-contact__link ge-quick-contact__link--action" data-tooltip="Jetzt anrufen"><i class="las la-phone"></i></a>
                            
                        </li>
                    
                    <li class="ge-quick-contact__item ge-quick-contact__item--trigger">
                        <div class="ge-quick-contact__link ge-quick-contact__link--trigger"><span class="ge-quick-contact__link--trigger-icons"><i class="las la-comments icon-default"></i><i class="las la-times icon-hover"></i></span></div>
                    </li>
                </ul>
            </div>
        
    </footer>




    

<!--TYPO3SEARCH_end-->
<script src="https://unpkg.com/friendly-challenge@0.9.9/widget.module.min.js"></script>
<script src="https://unpkg.com/friendly-challenge@0.9.9/widget.min.js"></script>
<script src="/typo3conf/ext/routes/Resources/Public/JavaScript/Vendor/axios.min.js?1621725267"></script>
<script src="/typo3conf/ext/routes/Resources/Public/JavaScript/Routes.js?1621725267"></script>
<script src="/typo3conf/ext/solr/Resources/Public/JavaScript/JQuery/jquery.min.js?1667397870"></script>
<script src="/typo3conf/ext/solr/Resources/Public/JavaScript/JQuery/jquery.autocomplete.min.js?1667397870"></script>
<script src="/typo3conf/ext/golfextra/Resources/Public/JavaScript/suggest_controller.js?1707400553"></script>
<script src="/typo3conf/ext/beyond_master/Resources/Public/dist/app.js?1707400576"></script>
<script>
/*<![CDATA[*/
/*TS_inlineFooter*/
       (function(d,s){
        var l=d.createElement(s),e=d.getElementsByTagName(s)[0];
        l.async=true;l.type='text/javascript';
        l.src='https://app.letsconnect.at/embed.js';
        l.id='2T8OOpJLCcGGtwF69ejj';
        e.parentNode.insertBefore(l,e);})(document,'script');

/*]]>*/
</script>

</body>
</html>
"""

# Parse the HTML
soup = BeautifulSoup(html_content, 'html.parser')

# Find main navigation container
navigation_list = soup.find('ul', class_='ge-desktop-navigation__list--main-left')

# Extract main categories and their links
for main_item in navigation_list.find_all('li', class_='ge-desktop-navigation__item'):
    main_link = main_item.find('a', class_='ge-desktop-navigation__link')
    if main_link:
        print(f"Main Category: {main_link.text.strip()} (Link: {main_link['href']})")

    # Check for subcategories
    dropdown = main_item.find('div', class_='ge-navigation-mega-dropdown__container')
    if dropdown:
        subcategories = dropdown.find_all('ul', class_='ge-navigation-mega-dropdown__list--level-2')
        for subcategory in subcategories:
            for sub_item in subcategory.find_all('li'):
                sub_link = sub_item.find('a')
                if sub_link:
                    print(f"  Subcategory: {sub_link.text.strip()} (Link: {sub_link['href']})")
